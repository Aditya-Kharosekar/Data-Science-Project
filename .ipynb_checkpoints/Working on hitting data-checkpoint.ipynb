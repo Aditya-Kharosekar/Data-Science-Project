{
 "cells": [
  {
   "cell_type": "code",
   "execution_count": 1,
   "metadata": {
    "collapsed": true
   },
   "outputs": [],
   "source": [
    "import pandas as pd\n",
    "import numpy as np\n",
    "import glob\n",
    "import os"
   ]
  },
  {
   "cell_type": "code",
   "execution_count": 23,
   "metadata": {
    "collapsed": true
   },
   "outputs": [],
   "source": [
    "year = 1999\n",
    "current_year = pd.read_csv(\"hitting/hitting_\" + str(year) + \".csv\")\n",
    "df = current_year[current_year.Team != \"- - -\"] #removing players who got traded\n",
    "teams = df['Team'].unique()"
   ]
  },
  {
   "cell_type": "code",
   "execution_count": 38,
   "metadata": {
    "collapsed": false
   },
   "outputs": [],
   "source": [
    "for team in teams[:1]:\n",
    "    this_team = df[df.Team == team] #getting this team's hitters\n",
    "    \n",
    "    #they are all weighted by the number of at bats\n",
    "    weighted_ba = 0.0\n",
    "    weighted_homeruns = 0.0\n",
    "    weighted_rbis = 0.0\n",
    "    weighted_ops = 0.0\n",
    "    weighted_war = 0.0\n",
    "    \n",
    "    at_bats = this_team['AB']\n",
    "\n",
    "    #weighted batting average\n",
    "    ba = this_team['AVG']\n",
    "    for i in range(len(ba)):\n",
    "        weighted_ba = weighted_ba + (at_bats.iloc[i] * ba.iloc[i])\n",
    "    weighted_ba = weighted_ba / np.sum(at_bats)\n",
    "    \n",
    "    #weighted homeruns\n",
    "    homeruns = this_team['HR']\n",
    "    for i in range(len(ba)):\n",
    "        weighted_homeruns = weighted_homeruns + (at_bats.iloc[i] * homeruns.iloc[i])\n",
    "    weighted_homeruns = weighted_homeruns / np.sum(at_bats)"
   ]
  },
  {
   "cell_type": "code",
   "execution_count": 39,
   "metadata": {
    "collapsed": false
   },
   "outputs": [
    {
     "data": {
      "text/plain": [
       "0.26948408488063658"
      ]
     },
     "execution_count": 39,
     "metadata": {},
     "output_type": "execute_result"
    }
   ],
   "source": [
    "weighted_ba"
   ]
  },
  {
   "cell_type": "code",
   "execution_count": null,
   "metadata": {
    "collapsed": true
   },
   "outputs": [],
   "source": []
  }
 ],
 "metadata": {
  "anaconda-cloud": {},
  "kernelspec": {
   "display_name": "Python [default]",
   "language": "python",
   "name": "python3"
  },
  "language_info": {
   "codemirror_mode": {
    "name": "ipython",
    "version": 3
   },
   "file_extension": ".py",
   "mimetype": "text/x-python",
   "name": "python",
   "nbconvert_exporter": "python",
   "pygments_lexer": "ipython3",
   "version": "3.5.2"
  }
 },
 "nbformat": 4,
 "nbformat_minor": 1
}
