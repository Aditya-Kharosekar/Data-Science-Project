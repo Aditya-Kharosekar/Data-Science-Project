{
 "cells": [
  {
   "cell_type": "markdown",
   "metadata": {},
   "source": [
    "My pseudocode for getting betting data for one season - \n",
    "\n",
    "For each team:\n",
    "\n",
    "    For each game:\n",
    "    \n",
    "        1. Get date and opposing team\n",
    "        \n",
    "        2. Get list of games already in CSV which occurred on that date\n",
    "        \n",
    "        3. If no such games exists,\n",
    "        \n",
    "            add this game to the list\n",
    "        \n",
    "        4. Else\n",
    "            \n",
    "            a. search if this particular game exists\n",
    "            \n",
    "            If no, add this game to list\n",
    "            \n",
    "            If yes, \n",
    "            \n",
    "                if current team is home team, populate homeLine column.\n",
    "                if current team is away team, populate awayLine column"
   ]
  },
  {
   "cell_type": "code",
   "execution_count": 1,
   "metadata": {
    "collapsed": true
   },
   "outputs": [],
   "source": [
    "from bs4 import BeautifulSoup\n",
    "import requests\n",
    "import pandas as pd\n",
    "import numpy as np\n",
    "import os\n",
    "import shutil\n",
    "import unicodedata\n",
    "import mlbgame\n",
    "import glob"
   ]
  },
  {
   "cell_type": "code",
   "execution_count": 293,
   "metadata": {
    "collapsed": true
   },
   "outputs": [],
   "source": [
    "teams = {\n",
    "    'CLE': 2980,\n",
    "    'CHW': 2974\n",
    "}"
   ]
  },
  {
   "cell_type": "code",
   "execution_count": 294,
   "metadata": {
    "collapsed": false
   },
   "outputs": [
    {
     "name": "stdout",
     "output_type": "stream",
     "text": [
      "[{'homeLine': 0, 'homePitcher': 'Hi', 'awayTeam': 'Hi', 'date': '11/11/1111', 'awayScore': 0, 'homeScore': 0, 'homeTeam': 'Hi', 'awayLine': 0, 'awayPitcher': 'Hi'}]\n"
     ]
    }
   ],
   "source": [
    "rows_list = []\n",
    "rows_list.append({\n",
    "            'date':'11/11/1111',\n",
    "            'homeTeam': 'Hi',\n",
    "            'awayTeam': 'Hi',\n",
    "            'homeScore':0,\n",
    "            'awayScore': 0,\n",
    "            'homePitcher':'Hi',\n",
    "            'awayPitcher':'Hi',\n",
    "            'homeLine': 0,\n",
    "            'awayLine': 0\n",
    "        })\n",
    "print (rows_list)\n",
    "f = pd.DataFrame(rows_list)\n",
    "f.to_csv('test.csv',  index = None, columns = ['date', 'homeTeam', 'awayTeam', 'homeScore', 'awayScore', 'homePitcher',\n",
    "                                              'awayPitcher', 'homeLine', 'awayLine'])"
   ]
  },
  {
   "cell_type": "code",
   "execution_count": 295,
   "metadata": {
    "collapsed": true
   },
   "outputs": [],
   "source": [
    "def get_current_home_away_teams(team, opposing_team):\n",
    "    home = \"\"\n",
    "    away = \"\"\n",
    "    if opposing_team[:2] == \"@ \":\n",
    "        home = opposing_team[2:]\n",
    "        away = team\n",
    "    else:\n",
    "        home = team\n",
    "        away = opposing_team\n",
    "        \n",
    "    return home, away"
   ]
  },
  {
   "cell_type": "code",
   "execution_count": 296,
   "metadata": {
    "collapsed": false
   },
   "outputs": [],
   "source": [
    "def get_scores(scores, isCurrentTeamHome):\n",
    "    scores = unicodedata.normalize(\"NFKD\", scores.strip())\n",
    "    scores = scores.split(\" \")[1].split(\"-\")\n",
    "    if (isCurrentTeamHome):\n",
    "        home_score = scores[0]\n",
    "        away_score = scores[1]\n",
    "    else:\n",
    "        home_score = scores[1]\n",
    "        away_score = scores[0]\n",
    "    return home_score, away_score"
   ]
  },
  {
   "cell_type": "code",
   "execution_count": 297,
   "metadata": {
    "collapsed": true
   },
   "outputs": [],
   "source": [
    "def get_moneylines(moneyline, isCurrentTeamHome):\n",
    "    if (isCurrentTeamHome):\n",
    "        homeline = moneyline\n",
    "        awayline = 0\n",
    "    else:\n",
    "        homeline = 0\n",
    "        awayline = moneyline\n",
    "    return homeline, awayline"
   ]
  },
  {
   "cell_type": "code",
   "execution_count": 298,
   "metadata": {
    "collapsed": false
   },
   "outputs": [],
   "source": [
    "def scrape_info_for_team(team):\n",
    "    \n",
    "    #first reading existing csv\n",
    "    df = pd.read_csv('test.csv')\n",
    "    \n",
    "    #get webpage for current team\n",
    "    query = 'https://www.covers.com/pageLoader/pageLoader.aspx?page=/data/mlb/teams/pastresults/2016/team' + str(teams[team])+'.html'\n",
    "    r = requests.get(query)\n",
    "    soup = BeautifulSoup(r.text, \"html.parser\")\n",
    "    \n",
    "    #getting all games played by team\n",
    "    games = soup.find_all(\"tr\", class_=lambda x: x !='datahead')\n",
    "    games_to_be_added = []\n",
    "    \n",
    "    for game in games[:15]:\n",
    "        current_date = \"\"\n",
    "        current_home_team = \"\"\n",
    "        current_away_team=\"\"\n",
    "        current_home_score=0\n",
    "        current_away_score=0\n",
    "        current_home_pitcher=\"\"\n",
    "        current_away_pitcher=\"\"\n",
    "        current_home_line = 0\n",
    "        current_away_line = 0\n",
    "        \n",
    "        \n",
    "        cells = game.find_all(class_='datacell')\n",
    "        \n",
    "        #get date (first check for existence of game in database)\n",
    "        current_date = unicodedata.normalize(\"NFKD\", (cells[0].text).strip())\n",
    "        \n",
    "        #get teams (second check)\n",
    "        opposing_team = (cells[1].text).strip()\n",
    "        current_home_team, current_away_team = get_current_home_away_teams(team, opposing_team)\n",
    "        \n",
    "        #get scores\n",
    "        scores = (cells[2].text)\n",
    "        current_home_score, current_away_score = get_scores(scores, (current_home_team==team))\n",
    "        \n",
    "        #get pitchers\n",
    "        if (cells[3].a):   \n",
    "            current_away_pitcher = (cells[3].a.text).strip()\n",
    "        else:\n",
    "            current_away_pitcher = (cells[3].text).strip()\n",
    "        if (cells[4].a):\n",
    "            current_home_pitcher = (cells[4].a.text).strip()\n",
    "        else:\n",
    "            current_home_pitcher = (cells[4].text).strip()\n",
    "        \n",
    "        #get line for current team and current game\n",
    "        current_home_line, current_away_line = get_moneylines((cells[5].text).strip()[2:], (current_home_team==team))\n",
    "        \n",
    "        \n",
    "        \n",
    "        #see if there are any games in existing CSV which were played on this date\n",
    "        games_on_this_date = df[df['date']==current_date]\n",
    "        \n",
    "        #if existing csv has no games played on that date, add current game to list\n",
    "        if (games_on_this_date.shape[0]==0):\n",
    "            games_to_be_added.append({\n",
    "                    'date':current_date,\n",
    "                    'homeTeam': current_home_team,\n",
    "                    'awayTeam': current_away_team,\n",
    "                    'homeScore': current_home_score,\n",
    "                    'awayScore': current_away_score,\n",
    "                    'homePitcher': current_home_pitcher,\n",
    "                    'awayPitcher': current_away_pitcher,\n",
    "                    'homeLine': current_home_line,\n",
    "                    'awayLine': current_away_line\n",
    "                })\n",
    "        else: #there are games in CSV which have been played on this date\n",
    "            \n",
    "            #check if this exact game is in database\n",
    "            games_with_same_home_team = games_on_this_date[games_on_this_date['homeTeam']==current_home_team]\n",
    "            games_with_these_teams = games_with_same_home_team[games_with_same_home_team['awayTeam']==current_away_team]\n",
    "            if (games_with_these_teams.shape[0]==0): #this exact game is NOT already in database\n",
    "                    games_to_be_added.append({\n",
    "                        'date':current_date,\n",
    "                        'homeTeam': current_home_team,\n",
    "                        'awayTeam': current_away_team,\n",
    "                        'homeScore': current_home_score,\n",
    "                        'awayScore': current_away_score,\n",
    "                        'homePitcher': current_home_pitcher,\n",
    "                        'awayPitcher': current_away_pitcher,\n",
    "                        'homeLine': current_home_line,\n",
    "                        'awayLine': current_away_line\n",
    "                })\n",
    "            else: #this exact IS in database. Need to update moneyline\n",
    "                \n",
    "                \n",
    "            \n",
    "    df2 = pd.DataFrame(games_to_be_added)\n",
    "    df = df.append(df2, ignore_index=True)\n",
    "    return df\n",
    "        "
   ]
  },
  {
   "cell_type": "code",
   "execution_count": 300,
   "metadata": {
    "collapsed": false
   },
   "outputs": [],
   "source": [
    "x = scrape_info_for_team('CHW')\n",
    "x.to_csv('test.csv', index=None, columns = ['date', 'homeTeam', 'awayTeam', 'homeScore', 'awayScore', 'homePitcher',\n",
    "                                           'awayPitcher', 'homeLine', 'awayLine'])"
   ]
  },
  {
   "cell_type": "code",
   "execution_count": null,
   "metadata": {
    "collapsed": true
   },
   "outputs": [],
   "source": []
  }
 ],
 "metadata": {
  "anaconda-cloud": {},
  "kernelspec": {
   "display_name": "Python [default]",
   "language": "python",
   "name": "python3"
  },
  "language_info": {
   "codemirror_mode": {
    "name": "ipython",
    "version": 3
   },
   "file_extension": ".py",
   "mimetype": "text/x-python",
   "name": "python",
   "nbconvert_exporter": "python",
   "pygments_lexer": "ipython3",
   "version": "3.5.2"
  }
 },
 "nbformat": 4,
 "nbformat_minor": 1
}
