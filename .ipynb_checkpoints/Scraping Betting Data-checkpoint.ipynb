{
 "cells": [
  {
   "cell_type": "code",
   "execution_count": 3,
   "metadata": {
    "collapsed": true
   },
   "outputs": [],
   "source": [
    "from bs4 import BeautifulSoup\n",
    "import requests\n",
    "import pandas as pd\n",
    "import numpy as np\n",
    "import unicodedata"
   ]
  },
  {
   "cell_type": "code",
   "execution_count": 4,
   "metadata": {
    "collapsed": true
   },
   "outputs": [],
   "source": [
    "def clean_up_pitcher_name(name):\n",
    "    pitcher = unicodedata.normalize(\"NFKD\", name) #removing the unicode characters in the pitcher name string\n",
    "    pitcher = (pitcher.replace(\"\\n\", \"\").replace(\" \", \"\"))[1:-3] #removing spaces,\n",
    "                                                                 #the - at the beginning, and the (L) or (R) at the end\n",
    "    return pitcher"
   ]
  },
  {
   "cell_type": "code",
   "execution_count": 28,
   "metadata": {
    "collapsed": true
   },
   "outputs": [],
   "source": [
    "def get_team_and_pitcher_names(game):\n",
    "    home_info = game[1].a.text.split(None, 1)\n",
    "    away_info = game[0].a.text.split(None, 1)\n",
    "    home_team = home_info[0]\n",
    "    away_team = away_info[0]\n",
    "    home_pitcher = clean_up_pitcher_name(home_info[1])\n",
    "    away_pitcher = clean_up_pitcher_name(away_info[1])\n",
    "    \n",
    "    return home_team, away_team, home_pitcher, away_pitcher"
   ]
  },
  {
   "cell_type": "code",
   "execution_count": 32,
   "metadata": {
    "collapsed": true
   },
   "outputs": [],
   "source": [
    "def get_scores(scores):\n",
    "    home_score = scores[1].text\n",
    "    away_score = scores[0].text \n",
    "    \n",
    "    return home_score, away_score"
   ]
  },
  {
   "cell_type": "code",
   "execution_count": 33,
   "metadata": {
    "collapsed": true
   },
   "outputs": [],
   "source": [
    "def get_moneylines(moneyline):\n",
    "    #The first two numbers in this array are the odds by Pinnacle\n",
    "    home_line = moneyline[1].text\n",
    "    away_line = moneyline[0].text\n",
    "    \n",
    "    return home_line, away_line"
   ]
  },
  {
   "cell_type": "code",
   "execution_count": 44,
   "metadata": {
    "collapsed": true
   },
   "outputs": [],
   "source": [
    "def get_win_percentages(consensus):\n",
    "    l = consensus.text.split(\"%\", 2)\n",
    "    return l[1], l[0] #away win percentage is first in this list"
   ]
  },
  {
   "cell_type": "code",
   "execution_count": 47,
   "metadata": {
    "collapsed": false
   },
   "outputs": [],
   "source": [
    "\"\"\"\n",
    "Given year, month, and date (YYYYMMDD), this function will scrape Sportsbook.com, take only the moneyline from Pinnacle,\n",
    "and create and save a CSV for that day\n",
    "\"\"\"\n",
    "def scrape_info_for_date(date):\n",
    "    \n",
    "    #I need to query the webpage first\n",
    "    query = \"https://www.sportsbookreview.com/betting-odds/mlb-baseball/?date=\" + str(date)\n",
    "    r = requests.get(query)\n",
    "    soup = BeautifulSoup(r.text, \"html.parser\")\n",
    "    \n",
    "    #getting all the games played that day\n",
    "    games = soup.find_all(class_=\"event-holder holder-complete\")\n",
    "    \n",
    "    #the list below will have columns - home team,home pitcher name, away team, away pitcher name, home_score, away_score,\n",
    "    #home_line, away_line\n",
    "    current_game = []\n",
    "    \n",
    "    #getting team and pitcher names\n",
    "    x = games[0].find_all(class_=\"team-name\")\n",
    "    home_team, away_team, home_pitcher, away_pitcher = get_team_and_pitcher_names(x)\n",
    "    \n",
    "    #getting scores\n",
    "    scores = games[0].find_all(class_=\"current-score\")\n",
    "    home_score, away_score = get_scores(scores)\n",
    "    \n",
    "    #getting moneyline\n",
    "    moneyline = games[0].find_all('b')\n",
    "    home_line, away_line = get_moneylines(moneyline)\n",
    "    \n",
    "    #getting consensus win percentages (in case we need it in the future)\n",
    "    consensus = games[0].find(class_=\"el-div eventLine-consensus\")\n",
    "    home_win_percent, away_win_percent = get_win_percentages(consensus)\n",
    "    \n",
    "    return home_team, away_team, home_pitcher, away_pitcher, home_score, away_score, home_line, away_line, home_win_percent, away_win_percent"
   ]
  },
  {
   "cell_type": "code",
   "execution_count": 48,
   "metadata": {
    "collapsed": false
   },
   "outputs": [
    {
     "data": {
      "text/plain": [
       "('BOS',\n",
       " 'HOU',\n",
       " 'F.Porcello',\n",
       " 'C.Morton',\n",
       " '4',\n",
       " '5',\n",
       " '+106',\n",
       " '-115',\n",
       " '46.3',\n",
       " '53.7')"
      ]
     },
     "execution_count": 48,
     "metadata": {},
     "output_type": "execute_result"
    }
   ],
   "source": [
    "scrape_info_for_date(20171009)"
   ]
  },
  {
   "cell_type": "code",
   "execution_count": null,
   "metadata": {
    "collapsed": true
   },
   "outputs": [],
   "source": []
  }
 ],
 "metadata": {
  "anaconda-cloud": {},
  "kernelspec": {
   "display_name": "Python [default]",
   "language": "python",
   "name": "python3"
  },
  "language_info": {
   "codemirror_mode": {
    "name": "ipython",
    "version": 3
   },
   "file_extension": ".py",
   "mimetype": "text/x-python",
   "name": "python",
   "nbconvert_exporter": "python",
   "pygments_lexer": "ipython3",
   "version": "3.5.2"
  }
 },
 "nbformat": 4,
 "nbformat_minor": 1
}
