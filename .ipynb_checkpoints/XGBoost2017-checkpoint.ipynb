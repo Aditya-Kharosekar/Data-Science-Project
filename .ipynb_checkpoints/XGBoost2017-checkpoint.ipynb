{
 "cells": [
  {
   "cell_type": "code",
   "execution_count": 1,
   "metadata": {
    "scrolled": false
   },
   "outputs": [
    {
     "name": "stderr",
     "output_type": "stream",
     "text": [
      "/Users/Koger/anaconda/lib/python3.6/site-packages/sklearn/cross_validation.py:41: DeprecationWarning: This module was deprecated in version 0.18 in favor of the model_selection module into which all the refactored classes and functions are moved. Also note that the interface of the new CV iterators are different from that of this module. This module will be removed in 0.20.\n",
      "  \"This module will be removed in 0.20.\", DeprecationWarning)\n"
     ]
    }
   ],
   "source": [
    "import pandas as pd\n",
    "from xgboost.sklearn import XGBClassifier\n",
    "from sklearn.metrics import accuracy_score\n",
    "from sklearn.model_selection import GridSearchCV\n",
    "from sklearn.metrics import confusion_matrix\n",
    "from sklearn.model_selection import train_test_split\n",
    "import time\n",
    "\n",
    "# Read in dataset\n",
    "df = pd.read_csv('Rolling Average Stats/2017.csv')\n",
    "\n",
    "# Create observation and labels\n",
    "X = df.drop(['date', 'home_team', 'away_team', 'home_score', 'away_score', 'home_pitcher', 'away_pitcher'], 1)\n",
    "y = df.home_score > df.away_score # 1 if home team wins, 0 otherwise\n",
    "\n",
    "# Use 1st 2/3rds of season for training, test on last 1/3\n",
    "X_train, X_test, y_train, y_test = train_test_split(X, y, test_size=0.33, shuffle=False)"
   ]
  },
  {
   "cell_type": "code",
   "execution_count": 2,
   "metadata": {},
   "outputs": [
    {
     "name": "stdout",
     "output_type": "stream",
     "text": [
      "XGBoost train time : 6400.15129\n"
     ]
    }
   ],
   "source": [
    "# Specify XGBoost parameters\n",
    "max_depth = [3, 6, 10]\n",
    "min_child_weight = [0.1,0.5, 1, 2, 5]\n",
    "gamma = [0, 1, 10, 100]\n",
    "subsample = [0.5, 1]\n",
    "#colsample_bytree = [0.5, 1] # Didn't help\n",
    "eta = [0.01,0.3, 1] # if eta (step size) goes down, num_rounds must go up\n",
    "n_estimators = [100, 200, 800]\n",
    "#num_round = # Not sure what the default value is, so not sure what to try\n",
    "\n",
    "parameters = {'max_depth':max_depth, 'gamma':gamma, 'learning_rate':eta, 'min_child_weight':min_child_weight, 'subsample':subsample, 'n_estimators':n_estimators}\n",
    "\n",
    "# Create classifier\n",
    "clf = GridSearchCV(XGBClassifier(), parameters)\n",
    "\n",
    "# Train classifier\n",
    "start_time = time.time()\n",
    "clf.fit(X_train, y_train.values.ravel())\n",
    "clf_fit_time = (time.time() - start_time)\n",
    "\n",
    "# Report time of execution\n",
    "print(\"XGBoost train time : {:.5f}\".format(clf_fit_time))"
   ]
  },
  {
   "cell_type": "code",
   "execution_count": 9,
   "metadata": {},
   "outputs": [
    {
     "data": {
      "text/plain": [
       "{'gamma': 10,\n",
       " 'learning_rate': 0.01,\n",
       " 'max_depth': 6,\n",
       " 'min_child_weight': 5,\n",
       " 'n_estimators': 200,\n",
       " 'subsample': 0.5}"
      ]
     },
     "execution_count": 9,
     "metadata": {},
     "output_type": "execute_result"
    }
   ],
   "source": [
    "clf.best_params_"
   ]
  },
  {
   "cell_type": "code",
   "execution_count": 3,
   "metadata": {},
   "outputs": [
    {
     "name": "stdout",
     "output_type": "stream",
     "text": [
      "XGBoost predict time: 0.01049 seconds\n"
     ]
    }
   ],
   "source": [
    "# Test classifier\n",
    "start_time = time.time()\n",
    "clf_pred = clf.predict(X_test)\n",
    "clf_pred_time = (time.time() - start_time)\n",
    "\n",
    "# Report time of execution\n",
    "print(\"XGBoost predict time: {:.5f} seconds\".format(clf_pred_time))"
   ]
  },
  {
   "cell_type": "code",
   "execution_count": 4,
   "metadata": {},
   "outputs": [
    {
     "name": "stdout",
     "output_type": "stream",
     "text": [
      "Mean error rate for XGBoost: \n",
      "0.4322396576319544 \n",
      "Accuracy rate for XGBoost: \n",
      "0.5677603423680456\n",
      "Confusion matrix for XGBoost: \n",
      "[[ 91 235]\n",
      " [ 68 307]]\n"
     ]
    }
   ],
   "source": [
    "# Report mean error rate\n",
    "accuracy = accuracy_score(y_test, clf_pred)\n",
    "error_rate = 1 - accuracy\n",
    "print(\"Mean error rate for XGBoost: \\n{} \\nAccuracy rate for XGBoost: \\n{}\".format(error_rate, accuracy))\n",
    "\n",
    "# Report confusion matrix for each classifier\n",
    "print(\"Confusion matrix for XGBoost: \\n{}\".format(confusion_matrix(y_test, clf_pred)))"
   ]
  },
  {
   "cell_type": "code",
   "execution_count": 10,
   "metadata": {},
   "outputs": [
    {
     "name": "stdout",
     "output_type": "stream",
     "text": [
      "Mean error rate for XGBoost: \n",
      "0.4179743223965763 \n",
      "Accuracy rate for XGBoost: \n",
      "0.5820256776034237\n",
      "Confusion matrix for XGBoost: \n",
      "[[107 219]\n",
      " [ 74 301]]\n"
     ]
    }
   ],
   "source": [
    "import numpy as np\n",
    "import random\n",
    "\n",
    "pred_avg = np.zeros(len(y_test))\n",
    "for i in random.sample(range(1, 1000000), 10): #[30, 595, 123, 4849, 3, 1010, 234, 8267, 3736, 99999]:\n",
    "    clfi =  XGBClassifier(**clf.best_params_, silent=False, seed=i)\n",
    "    clfi.fit(X_train, y_train.values.ravel())\n",
    "    clfi_pred = clfi.predict(X_test)    \n",
    "    pred_avg = pred_avg + 0.1*clfi_pred\n",
    "\n",
    "pred_avg = np.round(pred_avg)\n",
    "\n",
    "# Report mean error rate\n",
    "accuracy = accuracy_score(y_test, pred_avg)\n",
    "error_rate = 1 - accuracy\n",
    "print(\"Mean error rate for XGBoost: \\n{} \\nAccuracy rate for XGBoost: \\n{}\".format(error_rate, accuracy))\n",
    "    \n",
    "# Report confusion matrix for each classifier\n",
    "print(\"Confusion matrix for XGBoost: \\n{}\".format(confusion_matrix(y_test, pred_avg)))"
   ]
  }
 ],
 "metadata": {
  "anaconda-cloud": {},
  "kernelspec": {
   "display_name": "Python 3",
   "language": "python",
   "name": "python3"
  },
  "language_info": {
   "codemirror_mode": {
    "name": "ipython",
    "version": 3
   },
   "file_extension": ".py",
   "mimetype": "text/x-python",
   "name": "python",
   "nbconvert_exporter": "python",
   "pygments_lexer": "ipython3",
   "version": "3.6.1"
  }
 },
 "nbformat": 4,
 "nbformat_minor": 2
}
