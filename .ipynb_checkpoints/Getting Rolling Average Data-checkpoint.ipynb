{
 "cells": [
  {
   "cell_type": "code",
   "execution_count": null,
   "metadata": {
    "collapsed": true
   },
   "outputs": [],
   "source": [
    "from bs4 import BeautifulSoup\n",
    "import requests\n",
    "import pandas as pd\n",
    "import numpy as np\n",
    "import os\n",
    "import shutil\n",
    "import unicodedata\n",
    "import mlbgame\n",
    "import glob"
   ]
  },
  {
   "cell_type": "code",
   "execution_count": null,
   "metadata": {
    "collapsed": false
   },
   "outputs": [],
   "source": [
    "df = pd.read_csv('GL2017.csv')"
   ]
  },
  {
   "cell_type": "code",
   "execution_count": null,
   "metadata": {
    "collapsed": true
   },
   "outputs": [],
   "source": [
    "columns = ['Date', 'Day', 'AwayTeam', 'AwayTeamGameNumber', 'HomeTeam', 'HomeTeamGameNumber', 'AwayScore', 'HomeScore',\n",
    "          'AwayAtBats', 'AwayHits', 'AwayDoubles', 'AwayTriples', 'AwayHomeRuns', 'AwayRBI', 'AwayWalks', \n",
    "          'AwayIntentionalWalks', 'AwayStrikeouts', 'AwayStolenBases', 'AwayCaughtStealing', 'AwayLeftOnBase',\n",
    "          'AwayIndividualERA', 'AwayTeamERA', 'AwayErrors', 'AwayStartingPitcher',\n",
    "          'HomeAtBats', 'HomeHits', 'HomeDoubles', 'HomeTriples', 'HomeHomeRuns', 'HomeRBI', 'HomeWalks', \n",
    "          'HomeIntentionalWalks', 'HomeStrikeouts', 'HomeStolenBases', 'HomeCaughtStealing', 'HomeLeftOnBase',\n",
    "          'HomeIndividualERA', 'HomeTeamERA', 'HomeErrors', 'HomeStartingPitcher']"
   ]
  },
  {
   "cell_type": "code",
   "execution_count": null,
   "metadata": {
    "collapsed": false
   },
   "outputs": [],
   "source": [
    "df = df[columns]\n",
    "df.head()"
   ]
  },
  {
   "cell_type": "code",
   "execution_count": null,
   "metadata": {
    "collapsed": false
   },
   "outputs": [],
   "source": [
    "#removing the first 20 games of the season for each team\n",
    "training_set = df.loc[df.AwayTeamGameNumber >20]\n",
    "training_set = training_set.loc[df.HomeTeamGameNumber >20]"
   ]
  },
  {
   "cell_type": "code",
   "execution_count": null,
   "metadata": {
    "collapsed": false
   },
   "outputs": [],
   "source": [
    "print (training_set.shape)\n",
    "training_set.head()"
   ]
  },
  {
   "cell_type": "code",
   "execution_count": null,
   "metadata": {
    "collapsed": false
   },
   "outputs": [],
   "source": [
    "\"\"\"X is the dataset. \n",
    "Returns a CSV containing last numOfGames games of team teamName (doesn't whether teamName is home or away).\n",
    "Doesn't include currentGameNumber\n",
    "\"\"\"\n",
    "def get_last_n_games(teamName, numOfGames, currentGameNumber, X):\n",
    "    away_games = df.loc[df.AwayTeam==teamName]\n",
    "    away_games = away_games.loc[df.AwayTeamGameNumber < currentGameNumber]\n",
    "    away_games = away_games.loc[df.AwayTeamGameNumber >= (currentGameNumber - numOfGames)]\n",
    "    \n",
    "    home_games = df.loc[df.HomeTeam==teamName]\n",
    "    home_games = home_games.loc[df.HomeTeamGameNumber < currentGameNumber]\n",
    "    home_games = home_games.loc[df.HomeTeamGameNumber >= (currentGameNumber - numOfGames)]\n",
    "    \n",
    "    return pd.concat([home_games, away_games])"
   ]
  },
  {
   "cell_type": "code",
   "execution_count": null,
   "metadata": {
    "collapsed": false
   },
   "outputs": [],
   "source": [
    "\"\"\"\n",
    "Possible values of column:\n",
    "BATTING: BA, Runs, Walks, Strikeouts, LOB, StolenBases, OPS\n",
    "\"\"\"\n",
    "def return_rolling_average_of_column(df, team, column):\n",
    "    numer = 0.0\n",
    "    denom = 0\n",
    "    away_games = df.loc[df.AwayTeam==team]\n",
    "    home_games = df.loc[df.HomeTeam==team]\n",
    "    \n",
    "    if (column==\"BA\"): #we want the average batting average for this team\n",
    "        awayhits = np.sum(away_games['AwayHits'])\n",
    "        awayatbats = np.sum(away_games['AwayAtBats'])\n",
    "        homehits = np.sum(home_games['HomeHits'])\n",
    "        homeatbats = np.sum(home_games['HomeAtBats'])\n",
    "        return (homehits + awayhits) / (homeatbats + awayatbats)\n",
    "    \n",
    "    elif (column==\"Runs\"):\n",
    "        awayRuns = np.sum(away_games['AwayScore'])\n",
    "        homeRuns = np.sum(home_games['HomeScore'])\n",
    "        return (awayRuns + homeRuns) / df.shape[0]\n",
    "    \n",
    "    elif (column==\"Walks\"):\n",
    "        awayWalks = np.sum(away_games['AwayWalks'])\n",
    "        homeWalks = np.sum(home_games['HomeWalks'])\n",
    "        return (awayWalks + homeWalks) / df.shape[0]\n",
    "    \n",
    "    elif (column==\"Strikeouts\"):\n",
    "        away = np.sum(away_games['AwayStrikeouts'])\n",
    "        home = np.sum(home_games['HomeStrikeouts'])\n",
    "        return (away + home) / df.shape[0]\n",
    "    \n",
    "    elif (column==\"StolenBases\"):\n",
    "        away = np.sum(away_games['AwayStolenBases'])\n",
    "        home = np.sum(home_games['HomeStolenBases'])\n",
    "        return (away + home) / df.shape[0]\n",
    "    \n",
    "    elif (column==\"LOB\"):\n",
    "        away = np.sum(away_games['AwayLeftOnBase'])\n",
    "        home = np.sum(home_games['HomeLeftOnBase'])\n",
    "        return (away + home) / df.shape[0]\n",
    "    \n",
    "    elif (column==\"OPS\"): ##TO COMPLETE!!!!!!!\n",
    "        #first calculating slugging\n",
    "        home_doubles = np.sum(home_games['HomeDoubles'])\n",
    "        away_doubles = np.sum(away_games['AwayDoubles'])\n",
    "        home_triples = np.sum(home_games['HomeTriples'])\n",
    "        away_triples = np.sum(away_games['AwayTriples'])\n",
    "        home_hrs = np.sum(home_games['HomeHomeRuns'])\n",
    "        away_hrs = np.sum(away_games['AwayHomeRuns'])\n",
    "        homeatbats = np.sum(home_games['HomeAtBats'])\n",
    "        awayatbats = np.sum(away_games['AwayAtBats'])\n",
    "        home_hits = np.sum(home_games['HomeHits'])\n",
    "        away_hits = np.sum(away_games['AwayHits'])\n",
    "        home_singles = home_hits - (home_doubles + home_triples + home_hrs)\n",
    "        away_singles = away_hits - (away_doubles  +away_triples + away_hrs)\n",
    "        total_bases = (home_singles + away_singles) + (2* (home_doubles+away_doubles)) + (3* (home_triples_away_triples))+(4*(home_hrs+away_hrs))\n",
    "        slugging = total_bases / (homeatbats + awayatbats)\n",
    "    \n",
    "    #TODO: Calculate OBP and SLG and combine to get OPS"
   ]
  },
  {
   "cell_type": "code",
   "execution_count": null,
   "metadata": {
    "collapsed": false
   },
   "outputs": [],
   "source": [
    "h = get_last_n_games('TEX', 5, 10, training_set)\n",
    "x = return_rolling_average_of_column(h, 'TEX', \"LOB\")\n",
    "x"
   ]
  },
  {
   "cell_type": "code",
   "execution_count": null,
   "metadata": {
    "collapsed": false
   },
   "outputs": [],
   "source": [
    "rows_list = []\n",
    "for i in range(training_set.shape[0]):\n",
    "    if (i%25==0):\n",
    "        print (i)\n",
    "    current_game = training_set.iloc[i]\n",
    "    current_home = current_game['HomeTeam']\n",
    "    current_away = current_game['AwayTeam']\n",
    "    home_game_number = current_game['HomeTeamGameNumber']\n",
    "    away_game_number = current_game['AwayTeamGameNumber']\n",
    "    \n",
    "    #last 20 games of home team\n",
    "    last20home = get_last_n_games(current_home, 20, home_game_number, training_set)\n",
    "    #last 20 games of away team\n",
    "    last20away = get_last_n_games(current_away, 20, away_game_number, training_set)\n",
    "    \n",
    "    #last 10 games of home team\n",
    "    last10home = get_last_n_games(current_home, 10, home_game_number, training_set)\n",
    "    #last 10 games of away team\n",
    "    last10away = get_last_n_games(current_away, 10, away_game_number, training_set)\n",
    "    \n",
    "    #last 5 games of home team\n",
    "    last5home = get_last_n_games(current_home, 5, home_game_number, training_set)\n",
    "    #last 5 games of away team\n",
    "    last5away = get_last_n_games(current_away, 5, away_game_number, training_set)\n",
    "\n",
    "    rows_list.append({\n",
    "            'home_team': current_home,\n",
    "            'away_team': current_away,\n",
    "            \n",
    "            #20 game hitting stats\n",
    "            'home_20GameAvgBattingAvg': return_rolling_average_of_column(last20home, current_home, \"BA\"),\n",
    "            'away_20GameAvgBattingAvg': return_rolling_average_of_column(last20away, current_away, \"BA\"),\n",
    "            'home_20GameAvgRunsPerGame': return_rolling_average_of_column(last20home, current_home, \"Runs\"),\n",
    "            'away_20GameAvgRunsPerGame': return_rolling_average_of_column(last20away, current_away, \"Runs\"),\n",
    "            'home_20GameAvgWalksPerGame': return_rolling_average_of_column(last20home, current_home, \"Walks\"),\n",
    "            'away_20GameAvgWalksPerGame': return_rolling_average_of_column(last20away, current_away, \"Walks\"),\n",
    "            'home_20GameAvgStrikeoutsPerGame': return_rolling_average_of_column(last20home, current_home, \"Strikeouts\"),\n",
    "            'away_20GameAvgStrikeoutsPerGame': return_rolling_average_of_column(last20away, current_away, \"Strikeouts\"),\n",
    "            'home_20GameAvgSBPerGame': return_rolling_average_of_column(last20home, current_home, \"StolenBases\"),\n",
    "            'away_20GameAvgSBPerGame': return_rolling_average_of_column(last20away, current_away, \"StolenBases\"),\n",
    "            'home_20GameAvgLOBPerGame': return_rolling_average_of_column(last20home, current_home, \"LOB\"),\n",
    "            'away_20GameAvgLOBPerGame': return_rolling_average_of_column(last20away, current_away, \"LOB\"),\n",
    "            \n",
    "            #10 game hitting stats\n",
    "            'home_10GameAvgBattingAvg': return_rolling_average_of_column(last10home, current_home, \"BA\"),\n",
    "            'away_10GameAvgBattingAvg': return_rolling_average_of_column(last10away, current_away, \"BA\"),\n",
    "            'home_10GameAvgRunsPerGame': return_rolling_average_of_column(last10home, current_home, \"Runs\"),\n",
    "            'away_10GameAvgRunsPerGame': return_rolling_average_of_column(last10away, current_away, \"Runs\"),\n",
    "            'home_10GameAvgWalksPerGame': return_rolling_average_of_column(last10home, current_home, \"Walks\"),\n",
    "            'away_10GameAvgWalksPerGame': return_rolling_average_of_column(last10away, current_away, \"Walks\"),\n",
    "            'home_10GameAvgStrikeoutsPerGame': return_rolling_average_of_column(last10home, current_home, \"Strikeouts\"),\n",
    "            'away_10GameAvgStrikeoutsPerGame': return_rolling_average_of_column(last10away, current_away, \"Strikeouts\"),\n",
    "            'home_10GameAvgSBPerGame': return_rolling_average_of_column(last10home, current_home, \"StolenBases\"),\n",
    "            'away_10GameAvgSBPerGame': return_rolling_average_of_column(last10away, current_away, \"StolenBases\"),\n",
    "            'home_10GameAvgLOBPerGame': return_rolling_average_of_column(last10home, current_home, \"LOB\"),\n",
    "            'away_10GameAvgLOBPerGame': return_rolling_average_of_column(last10away, current_away, \"LOB\"),\n",
    "            \n",
    "            #5 game hitting stats\n",
    "            'home_5GameAvgBattingAvg': return_rolling_average_of_column(last5home, current_home, \"BA\"),\n",
    "            'away_5GameAvgBattingAvg': return_rolling_average_of_column(last5away, current_away, \"BA\"),\n",
    "            'home_5GameAvgRunsPerGame': return_rolling_average_of_column(last5home, current_home, \"Runs\"),\n",
    "            'away_5GameAvgRunsPerGame': return_rolling_average_of_column(last5away, current_away, \"Runs\"),\n",
    "            'home_5GameAvgWalksPerGame': return_rolling_average_of_column(last5home, current_home, \"Walks\"),\n",
    "            'away_5GameAvgWalksPerGame': return_rolling_average_of_column(last5away, current_away, \"Walks\"),\n",
    "            'home_5GameAvgStrikeoutsPerGame': return_rolling_average_of_column(last5home, current_home, \"Strikeouts\"),\n",
    "            'away_5GameAvgStrikeoutsPerGame': return_rolling_average_of_column(last5away, current_away, \"Strikeouts\"),\n",
    "            'home_5GameAvgSBPerGame': return_rolling_average_of_column(last5home, current_home, \"StolenBases\"),\n",
    "            'away_5GameAvgSBPerGame': return_rolling_average_of_column(last5away, current_away, \"StolenBases\"),\n",
    "            'home_5GameAvgLOBPerGame': return_rolling_average_of_column(last5home, current_home, \"LOB\"),\n",
    "            'away_5GameAvgLOBPerGame': return_rolling_average_of_column(last5away, current_away, \"LOB\"),\n",
    "        })\n",
    "    \n",
    "f = pd.DataFrame(rows_list)\n",
    "f.to_csv('test.csv', \n",
    "         index=None, \n",
    "         columns = ['home_team', 'away_team', 'home_20GameAvgBattingAvg', 'home_10GameAvgBattingAvg','home_5GameAvgBattingAvg',\n",
    "                    'home_20GameAvgRunsPerGame','home_10GameAvgRunsPerGame','home_5GameAvgRunsPerGame',\n",
    "                    'home_20GameAvgWalksPerGame','home_10GameAvgWalksPerGame','home_5GameAvgWalksPerGame',\n",
    "                    'home_20GameAvgStrikeoutsPerGame','home_10GameAvgStrikeoutsPerGame','home_5GameAvgStrikeoutsPerGame',\n",
    "                    'home_20GameAvgSBPerGame','home_10GameAvgSBPerGame', 'home_5GameAvgSBPerGame',\n",
    "                    'home_20GameAvgLOBPerGame','home_10GameAvgLOBPerGame','home_5GameAvgLOBPerGame',\n",
    "                    'away_20GameAvgBattingAvg','away_10GameAvgBattingAvg','away_5GameAvgBattingAvg',\n",
    "                    'away_20GameAvgRunsPerGame','away_10GameAvgRunsPerGame','away_5GameAvgRunsPerGame',\n",
    "                    'away_20GameAvgWalksPerGame','away_10GameAvgWalksPerGame', 'away_5GameAvgWalksPerGame',\n",
    "                    'away_20GameAvgStrikeoutsPerGame','away_10GameAvgStrikeoutsPerGame', 'away_5GameAvgStrikeoutsPerGame'\n",
    "                    'away_20GameAvgSBPerGame', 'away_10GameAvgSBPerGame', 'away_5GameAvgSBPerGame',\n",
    "                    'away_20GameAvgLOBPerGame', 'away_10GameAvgLOBPerGame','away_5GameAvgLOBPerGame'\n",
    "                   ])"
   ]
  },
  {
   "cell_type": "code",
   "execution_count": null,
   "metadata": {
    "collapsed": true
   },
   "outputs": [],
   "source": []
  }
 ],
 "metadata": {
  "anaconda-cloud": {},
  "kernelspec": {
   "display_name": "Python [default]",
   "language": "python",
   "name": "python3"
  },
  "language_info": {
   "codemirror_mode": {
    "name": "ipython",
    "version": 3
   },
   "file_extension": ".py",
   "mimetype": "text/x-python",
   "name": "python",
   "nbconvert_exporter": "python",
   "pygments_lexer": "ipython3",
   "version": "3.5.2"
  }
 },
 "nbformat": 4,
 "nbformat_minor": 1
}
