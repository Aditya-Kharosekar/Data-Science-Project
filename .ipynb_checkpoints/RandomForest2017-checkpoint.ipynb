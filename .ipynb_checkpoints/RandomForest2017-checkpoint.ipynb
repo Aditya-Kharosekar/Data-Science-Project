{
 "cells": [
  {
   "cell_type": "code",
   "execution_count": 5,
   "metadata": {
    "collapsed": true
   },
   "outputs": [],
   "source": [
    "from bs4 import BeautifulSoup\n",
    "import requests\n",
    "import pandas as pd\n",
    "import numpy as np\n",
    "import os\n",
    "import shutil\n",
    "import unicodedata\n",
    "import glob\n",
    "from sklearn.model_selection import GridSearchCV\n",
    "from sklearn.ensemble import RandomForestClassifier\n",
    "from sklearn.model_selection import train_test_split\n",
    "from sklearn.metrics import confusion_matrix,accuracy_score\n",
    "from time import time"
   ]
  },
  {
   "cell_type": "code",
   "execution_count": 7,
   "metadata": {},
   "outputs": [
    {
     "name": "stdout",
     "output_type": "stream",
     "text": [
      "Fitting 3 folds for each of 175 candidates, totalling 525 fits\n"
     ]
    },
    {
     "name": "stderr",
     "output_type": "stream",
     "text": [
      "[Parallel(n_jobs=1)]: Done 525 out of 525 | elapsed: 22.2min finished\n"
     ]
    },
    {
     "data": {
      "text/plain": [
       "{'max_depth': 100, 'max_features': 44, 'n_estimators': 200}"
      ]
     },
     "execution_count": 7,
     "metadata": {},
     "output_type": "execute_result"
    }
   ],
   "source": [
    "# Read in dataset\n",
    "df = pd.read_csv('Rolling Average Stats/2017.csv')\n",
    "\n",
    "# Create observation and labels\n",
    "X = df.drop(['date', 'home_team', 'away_team', 'home_score', 'away_score', 'home_pitcher', 'away_pitcher','homeLine','awayLine'], 1)\n",
    "y = df.home_score > df.away_score # 1 if home team wins, 0 otherwise\n",
    "# Use 1st 2/3rds of season for training, test on last 1/3\n",
    "X_train, X_test, y_train, y_test = train_test_split(X, y, test_size=0.33, shuffle=False)\n",
    "\n",
    "rf_params = {\n",
    "    'n_estimators' : [10, 50 ,100, 200, 300, 500, 700],\n",
    "    'max_depth' : [5, 20, 40, 80, 100],\n",
    "    'max_features' : [5, 10, 20, 40, 44]\n",
    "}\n",
    "\n",
    "clf = GridSearchCV(estimator=RandomForestClassifier(), param_grid=rf_params, verbose=1)\n",
    "clf.fit(X_train, y_train.ravel())\n",
    "clf.best_params_"
   ]
  },
  {
   "cell_type": "code",
   "execution_count": 11,
   "metadata": {},
   "outputs": [
    {
     "name": "stdout",
     "output_type": "stream",
     "text": [
      "Confusion matrix for Random Forest Classifier:\n",
      "[[ 97 219]\n",
      " [ 73 248]]\n",
      "error rate for Random Forests: 0.45839874411302983\n"
     ]
    }
   ],
   "source": [
    "print(\"Confusion matrix for Random Forest Classifier:\")\n",
    "\n",
    "print(confusion_matrix(y_test,total))\n",
    "tp, fn, fp, tn = confusion_matrix(y_rf_test, total).ravel()\n",
    "false= fp+fn\n",
    "total_sets= fp+tp+tn+fn\n",
    "print(\"error rate for Random Forests: {}\".format(false/total_sets))"
   ]
  },
  {
   "cell_type": "code",
   "execution_count": null,
   "metadata": {
    "collapsed": true
   },
   "outputs": [],
   "source": []
  }
 ],
 "metadata": {
  "kernelspec": {
   "display_name": "Python 3",
   "language": "python",
   "name": "python3"
  },
  "language_info": {
   "codemirror_mode": {
    "name": "ipython",
    "version": 3
   },
   "file_extension": ".py",
   "mimetype": "text/x-python",
   "name": "python",
   "nbconvert_exporter": "python",
   "pygments_lexer": "ipython3",
   "version": "3.6.1"
  }
 },
 "nbformat": 4,
 "nbformat_minor": 2
}
