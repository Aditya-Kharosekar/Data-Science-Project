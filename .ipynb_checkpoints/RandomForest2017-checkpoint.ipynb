{
 "cells": [
  {
   "cell_type": "code",
   "execution_count": 1,
   "metadata": {
    "collapsed": true
   },
   "outputs": [],
   "source": [
    "from bs4 import BeautifulSoup\n",
    "import requests\n",
    "import pandas as pd\n",
    "import numpy as np\n",
    "import os\n",
    "import shutil\n",
    "import unicodedata\n",
    "import glob\n",
    "from sklearn.model_selection import GridSearchCV\n",
    "from sklearn.ensemble import RandomForestClassifier\n",
    "from sklearn.model_selection import train_test_split\n",
    "from sklearn.metrics import confusion_matrix,accuracy_score\n",
    "from time import time"
   ]
  },
  {
   "cell_type": "code",
   "execution_count": 8,
   "metadata": {},
   "outputs": [
    {
     "name": "stdout",
     "output_type": "stream",
     "text": [
      "1486\n",
      "637\n"
     ]
    },
    {
     "data": {
      "text/plain": [
       "GridSearchCV(cv=5, error_score='raise',\n",
       "       estimator=RandomForestClassifier(bootstrap=True, class_weight=None, criterion='gini',\n",
       "            max_depth=None, max_features='auto', max_leaf_nodes=None,\n",
       "            min_impurity_split=1e-07, min_samples_leaf=1,\n",
       "            min_samples_split=2, min_weight_fraction_leaf=0.0,\n",
       "            n_estimators=10, n_jobs=1, oob_score=False, random_state=None,\n",
       "            verbose=0, warm_start=False),\n",
       "       fit_params={}, iid=True, n_jobs=1,\n",
       "       param_grid=[{'n_estimators': [10, 25, 50, 100, 200, 300, 400, 500, 600, 700]}, {'max_depth': [5, 10, 15, 20, 30, 40, 50, 60, 70]}, {'max_features': [5, 10, 15, 20, 30, 40, 44]}],\n",
       "       pre_dispatch='2*n_jobs', refit=True, return_train_score=True,\n",
       "       scoring=None, verbose=0)"
      ]
     },
     "execution_count": 8,
     "metadata": {},
     "output_type": "execute_result"
    }
   ],
   "source": [
    "RFdata= pd.read_csv(\"Rolling Average Stats/2017.csv\")\n",
    "import time\n",
    "\n",
    "X_rf= RFdata[['home_20GameAvgBattingAvg', 'home_10GameAvgBattingAvg','home_5GameAvgBattingAvg',\n",
    "                    'home_20GameAvgRunsPerGame','home_10GameAvgRunsPerGame','home_5GameAvgRunsPerGame',\n",
    "                    'home_20GameAvgWalksPerGame','home_10GameAvgWalksPerGame','home_5GameAvgWalksPerGame',\n",
    "                    'home_20GameAvgStrikeoutsPerGame','home_10GameAvgStrikeoutsPerGame','home_5GameAvgStrikeoutsPerGame',\n",
    "                    'home_20GameAvgSBPerGame','home_10GameAvgSBPerGame', 'home_5GameAvgSBPerGame',\n",
    "                    'home_20GameAvgLOBPerGame','home_10GameAvgLOBPerGame','home_5GameAvgLOBPerGame',\n",
    "                    'home_pitcher_strikeouts', 'home_pitcher_walks', 'home_pitcher_hits', 'home_pitcher_ERA',\n",
    "                    'away_20GameAvgBattingAvg','away_10GameAvgBattingAvg','away_5GameAvgBattingAvg',\n",
    "                    'away_20GameAvgRunsPerGame','away_10GameAvgRunsPerGame','away_5GameAvgRunsPerGame',\n",
    "                    'away_20GameAvgWalksPerGame','away_10GameAvgWalksPerGame', 'away_5GameAvgWalksPerGame',\n",
    "                    'away_20GameAvgStrikeoutsPerGame','away_10GameAvgStrikeoutsPerGame', 'away_5GameAvgStrikeoutsPerGame',\n",
    "                    'away_20GameAvgSBPerGame', 'away_10GameAvgSBPerGame', 'away_5GameAvgSBPerGame',\n",
    "                    'away_20GameAvgLOBPerGame', 'away_10GameAvgLOBPerGame','away_5GameAvgLOBPerGame',\n",
    "                    'away_pitcher_strikeouts', 'away_pitcher_walks', 'away_pitcher_hits', 'away_pitcher_ERA' ]]\n",
    "#Home Pitcher and away pitcher taken out, 44 features\n",
    "y_rf= np.zeros(RFdata.shape[0])\n",
    "homescore= RFdata['home_score']\n",
    "awayscore =RFdata['away_score']\n",
    "for i in range (0,RFdata.shape[0]):\n",
    "    if homescore[i]>awayscore[i]:\n",
    "        y_rf[i]=1\n",
    "    else:\n",
    "        y_rf[i]=0\n",
    "        \n",
    "y_rf.transpose()\n",
    "X_rf_train, X_rf_test, y_rf_train, y_rf_test = train_test_split(X_rf,y_rf,test_size = 0.3)\n",
    "print(X_rf_train.shape[0])\n",
    "print(X_rf_test.shape[0])\n",
    "Ns= [10, 25, 50 ,100, 200, 300, 400, 500, 600, 700]\n",
    "Mdepth= [5, 10, 15,  20, 30, 40 , 50, 60, 70]\n",
    "Mfeatures= [5, 10, 15, 20, 30, 40, 44]\n",
    "\n",
    "tuned_parameters = [{'n_estimators': Ns},{'max_depth' : Mdepth },{'max_features': Mfeatures}]\n",
    "start_time= time.time()\n",
    "clf = GridSearchCV(RandomForestClassifier(), tuned_parameters, cv=5)\n",
    "clf.fit(X_rf_train, y_rf_train.ravel())"
   ]
  },
  {
   "cell_type": "code",
   "execution_count": 9,
   "metadata": {
    "collapsed": true
   },
   "outputs": [],
   "source": [
    "X=[1,2,3,7,11,13,17,20,31,42]\n",
    "\n",
    "overall_pred= np.zeros(y_rf_test.shape[0])\n",
    "for i in range (0,10):\n",
    "    RF1= RandomForestClassifier(random_state=X[i], n_estimators= clf.best_estimator_.n_estimators, max_depth=clf.best_estimator_.max_depth, max_features=clf.best_estimator_.max_features)\n",
    "    y_rf_pred= clf.predict_proba(X_rf_test) \n",
    "    overall_pred= overall_pred+ (0.1*y_rf_pred[:,1])\n"
   ]
  },
  {
   "cell_type": "code",
   "execution_count": 10,
   "metadata": {
    "collapsed": true
   },
   "outputs": [],
   "source": [
    "ones = [i for i in overall_pred if i>0.5]\n",
    "zeros = [i for i in overall_pred if i<0.5]\n",
    "len(ones), len(zeros), len(overall_pred)\n",
    "total= np.zeros(overall_pred.shape[0])\n",
    "for i in range(0, overall_pred.shape[0]):\n",
    "    if overall_pred[i]>0.5:\n",
    "        total[i]=1\n",
    "    else:\n",
    "        total[i]=0"
   ]
  },
  {
   "cell_type": "code",
   "execution_count": 11,
   "metadata": {},
   "outputs": [
    {
     "name": "stdout",
     "output_type": "stream",
     "text": [
      "Confusion matrix for Random Forest Classifier:\n",
      "[[ 97 219]\n",
      " [ 73 248]]\n",
      "error rate for Random Forests: 0.45839874411302983\n"
     ]
    }
   ],
   "source": [
    "print(\"Confusion matrix for Random Forest Classifier:\")\n",
    "print(confusion_matrix(y_rf_test,total))\n",
    "tp, fn, fp, tn = confusion_matrix(y_rf_test, total).ravel()\n",
    "false= fp+fn\n",
    "total_sets= fp+tp+tn+fn\n",
    "print(\"error rate for Random Forests: {}\".format(false/total_sets))"
   ]
  },
  {
   "cell_type": "code",
   "execution_count": null,
   "metadata": {
    "collapsed": true
   },
   "outputs": [],
   "source": []
  }
 ],
 "metadata": {
  "kernelspec": {
   "display_name": "Python 3",
   "language": "python",
   "name": "python3"
  },
  "language_info": {
   "codemirror_mode": {
    "name": "ipython",
    "version": 3
   },
   "file_extension": ".py",
   "mimetype": "text/x-python",
   "name": "python",
   "nbconvert_exporter": "python",
   "pygments_lexer": "ipython3",
   "version": "3.6.1"
  }
 },
 "nbformat": 4,
 "nbformat_minor": 2
}
