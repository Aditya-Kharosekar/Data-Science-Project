{
 "cells": [
  {
   "cell_type": "code",
   "execution_count": 63,
   "metadata": {
    "collapsed": true
   },
   "outputs": [],
   "source": [
    "from bs4 import BeautifulSoup\n",
    "import requests\n",
    "import pandas as pd\n",
    "import numpy as np\n",
    "import unicodedata"
   ]
  },
  {
   "cell_type": "code",
   "execution_count": 110,
   "metadata": {
    "collapsed": true
   },
   "outputs": [],
   "source": [
    "def clean_up_pitcher_name(name):\n",
    "    pitcher = unicodedata.normalize(\"NFKD\", name) #removing the unicode characters in the pitcher name string\n",
    "    pitcher = (pitcher.replace(\"\\n\", \"\").replace(\" \", \"\"))[1:-3] #removing spaces,\n",
    "                                                                 #the - at the beginning, and the (L) or (R) at the end\n",
    "    return pitcher"
   ]
  },
  {
   "cell_type": "code",
   "execution_count": 108,
   "metadata": {
    "collapsed": false
   },
   "outputs": [],
   "source": [
    "\"\"\"\n",
    "Given year, month, and date (YYYYMMDD), this function will scrape Sportsbook.com, take only the moneyline from Pinnacle,\n",
    "and create and save a CSV for that day\n",
    "\"\"\"\n",
    "def get_moneyline_for_date(date):\n",
    "    \n",
    "    #I need to query the webpage first\n",
    "    query = \"https://www.sportsbookreview.com/betting-odds/mlb-baseball/?date=\" + str(date)\n",
    "    r = requests.get(query)\n",
    "    soup = BeautifulSoup(r.text, \"html.parser\")\n",
    "    \n",
    "    #getting all the games played that day\n",
    "    games = soup.find_all(class_=\"event-holder holder-complete\")\n",
    "    \n",
    "    #the list below will have columns - home team,home pitcher name, away team, away pitcher name, home_score, away_score,\n",
    "    #home_line, away_line\n",
    "    current_game = []\n",
    "    \n",
    "    #getting team and pitcher names\n",
    "    x = games[0].find_all(class_=\"team-name\")\n",
    "    home_info = x[1].a.text.split(None, 1)\n",
    "    away_info = x[0].a.text.split(None, 1)\n",
    "    home_team = home_info[0]\n",
    "    away_team = away_info[0]\n",
    "    home_pitcher = clean_up_pitcher_name(home_info[1])\n",
    "    away_pitcher = clean_up_pitcher_name(away_info[1])\n",
    "    \n",
    "    #getting scores\n",
    "    scores = games[0].find_all(class_=\"current-score\")\n",
    "    home_score = scores[1].text\n",
    "    away_score = scores[0].text\n",
    "    return home_team, away_team, home_pitcher, away_pitcher, home_score, away_score"
   ]
  },
  {
   "cell_type": "code",
   "execution_count": 109,
   "metadata": {
    "collapsed": false
   },
   "outputs": [
    {
     "data": {
      "text/plain": [
       "('BOS', 'HOU', 'F.Porcello', 'C.Morton', '4', '5')"
      ]
     },
     "execution_count": 109,
     "metadata": {},
     "output_type": "execute_result"
    }
   ],
   "source": [
    "get_moneyline_for_date(20171009)"
   ]
  },
  {
   "cell_type": "code",
   "execution_count": null,
   "metadata": {
    "collapsed": true
   },
   "outputs": [],
   "source": []
  }
 ],
 "metadata": {
  "anaconda-cloud": {},
  "kernelspec": {
   "display_name": "Python [default]",
   "language": "python",
   "name": "python3"
  },
  "language_info": {
   "codemirror_mode": {
    "name": "ipython",
    "version": 3
   },
   "file_extension": ".py",
   "mimetype": "text/x-python",
   "name": "python",
   "nbconvert_exporter": "python",
   "pygments_lexer": "ipython3",
   "version": "3.5.2"
  }
 },
 "nbformat": 4,
 "nbformat_minor": 1
}
