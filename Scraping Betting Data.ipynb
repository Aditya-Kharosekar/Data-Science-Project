{
 "cells": [
  {
   "cell_type": "code",
   "execution_count": 27,
   "metadata": {
    "collapsed": true
   },
   "outputs": [],
   "source": [
    "from bs4 import BeautifulSoup\n",
    "import requests\n",
    "import pandas as pd\n",
    "import numpy as np\n",
    "import os\n",
    "import shutil\n",
    "import unicodedata\n",
    "import mlbgame\n",
    "import glob"
   ]
  },
  {
   "cell_type": "code",
   "execution_count": 28,
   "metadata": {
    "collapsed": true
   },
   "outputs": [],
   "source": [
    "#date is in the following format YYYYMMDD. Will return a string \"MM/DD/YYYY\" format\n",
    "def format_date(date):\n",
    "    date = str(date)\n",
    "    year = date[:4]\n",
    "    month = date[4:6]\n",
    "    day = date[6:]\n",
    "    return str(month) + \"/\" + str(day) + \"/\" + str(year)"
   ]
  },
  {
   "cell_type": "code",
   "execution_count": 29,
   "metadata": {
    "collapsed": true
   },
   "outputs": [],
   "source": [
    "def clean_up_pitcher_name(name):\n",
    "    pitcher = unicodedata.normalize(\"NFKD\", name) #removing the unicode characters in the pitcher name string\n",
    "    pitcher = (pitcher.replace(\"\\n\", \"\").replace(\" \", \"\"))[1:-3] #removing spaces,\n",
    "                                                                 #the - at the beginning, and the (L) or (R) at the end\n",
    "    return pitcher"
   ]
  },
  {
   "cell_type": "code",
   "execution_count": 30,
   "metadata": {
    "collapsed": true
   },
   "outputs": [],
   "source": [
    "def get_team_and_pitcher_names(game):\n",
    "    home_info = game[1].a.text.split(None, 1)\n",
    "    away_info = game[0].a.text.split(None, 1)\n",
    "    home_team = home_info[0]\n",
    "    away_team = away_info[0]\n",
    "    home_pitcher = clean_up_pitcher_name(home_info[1])\n",
    "    away_pitcher = clean_up_pitcher_name(away_info[1])\n",
    "    \n",
    "    return home_team, away_team, home_pitcher, away_pitcher"
   ]
  },
  {
   "cell_type": "code",
   "execution_count": 31,
   "metadata": {
    "collapsed": true
   },
   "outputs": [],
   "source": [
    "def get_scores(scores):\n",
    "    home_score = scores[1].text\n",
    "    away_score = scores[0].text \n",
    "    \n",
    "    return home_score, away_score"
   ]
  },
  {
   "cell_type": "code",
   "execution_count": 32,
   "metadata": {
    "collapsed": true
   },
   "outputs": [],
   "source": [
    "def get_moneylines(moneyline):\n",
    "    #The first two numbers in this array are the odds by Pinnacle\n",
    "    home_line = moneyline[1].text\n",
    "    away_line = moneyline[0].text\n",
    "    \n",
    "    return home_line, away_line"
   ]
  },
  {
   "cell_type": "code",
   "execution_count": 33,
   "metadata": {
    "collapsed": false
   },
   "outputs": [],
   "source": [
    "\"\"\"\n",
    "Given year, month, and date (YYYYMMDD), this function will scrape Sportsbook.com, take only the moneyline from Pinnacle,\n",
    "and create and save a CSV for that day\n",
    "\"\"\"\n",
    "def scrape_info_for_date(date, year, month):\n",
    "    \n",
    "    #I need to query the webpage first\n",
    "    query = \"https://www.sportsbookreview.com/betting-odds/mlb-baseball/?date=\" + str(date)\n",
    "    r = requests.get(query)\n",
    "    soup = BeautifulSoup(r.text, \"html.parser\")\n",
    "    \n",
    "    #getting all the games played that day\n",
    "    games = soup.find_all(class_=\"event-holder holder-complete\")\n",
    "    if (len(games)==0): #no games on this day\n",
    "        return 0\n",
    "    date2 = format_date(date)\n",
    "    rows_list = []\n",
    "    \n",
    "    for game in games:\n",
    "        #the list below will have columns - home team,home pitcher name, away team, away pitcher name, home_score, away_score,\n",
    "        #home_line, away_line\n",
    "        current_game = []\n",
    "    \n",
    "        #getting team and pitcher names\n",
    "        x = game.find_all(class_=\"team-name\")\n",
    "        home_team, away_team, home_pitcher, away_pitcher = get_team_and_pitcher_names(x)\n",
    "    \n",
    "        #getting scores\n",
    "        scores = game.find_all(class_=\"current-score\")\n",
    "        home_score, away_score = get_scores(scores)\n",
    "    \n",
    "        #getting moneyline\n",
    "        moneyline = game.find_all('b')\n",
    "        home_line, away_line = get_moneylines(moneyline)\n",
    "    \n",
    "        rows_list.append({\n",
    "            'date':date2,\n",
    "            'homeTeam': home_team,\n",
    "            'awayTeam': away_team,\n",
    "            'homeScore':home_score,\n",
    "            'awayScore': away_score,\n",
    "            'homeLine': home_line,\n",
    "            'awayLine': away_line\n",
    "        })\n",
    "    f = pd.DataFrame(rows_list)\n",
    "    folder = \"2017/\"+ str(y) + month+\"/\"\n",
    "    f.to_csv(folder+str(date)+\".csv\", index = None, columns = ['date', 'homeTeam', 'awayTeam', 'homeScore', 'awayScore',\n",
    "                                                  'homeLine', 'awayLine'])"
   ]
  },
  {
   "cell_type": "code",
   "execution_count": null,
   "metadata": {
    "collapsed": false
   },
   "outputs": [],
   "source": [
    "\"\"\"The season starts in April. So when scraping for April, \n",
    "    - the inner loop should start from the date that the season starts\n",
    "    - the months list with only April should be used\n",
    "    - y should be i+4\n",
    "For other months\n",
    "    - inner loop should start from 1\n",
    "    - y should be i+5\n",
    "\"\"\"\n",
    "months = ['April']\n",
    "days_in_month = [30]\n",
    "\n",
    "# months = ['May', 'June', 'July', 'August', 'September', 'October', 'November'] #the months of the season\n",
    "# days_in_month = [31, 30, 31, 31, 30, 31, 30]\n",
    "\n",
    "year = '2017'\n",
    "\n",
    "for i in range(len(months)):\n",
    "    print (months[i])\n",
    "    for j in range(3, days_in_month[i]+1):\n",
    "        x = format(j, \"02\")\n",
    "        y = format(i+4, \"02\")\n",
    "        d = int(year + str(y)+str(x))\n",
    "        print (d)\n",
    "        scrape_info_for_date(d, y, months[i])"
   ]
  },
  {
   "cell_type": "markdown",
   "metadata": {},
   "source": [
    "## The above code scrapes betting data for the 2017 season.\n",
    "\n",
    "\n",
    "\n",
    "## the below code is for combining the different CSVs into one"
   ]
  },
  {
   "cell_type": "code",
   "execution_count": 21,
   "metadata": {
    "collapsed": false
   },
   "outputs": [],
   "source": [
    "\"\"\"Change these two lines for each season\n",
    "\"\"\"\n",
    "year = '2017'\n",
    "folders = ['04April', '05May', '06June', '07July', '08August', '09September', '10October', '11November']\n",
    "\n",
    "#making the csv for each month\n",
    "for folder in folders:\n",
    "    \n",
    "    p = str(year) + '/'+str(folder)\n",
    "\n",
    "    files = glob.glob(p+'/*.csv') #Getting a list of all files which I need to concat\n",
    "    dfs = []\n",
    "    for i in range(0, len(files)):\n",
    "        dfs.append(pd.read_csv(files[i]))\n",
    "\n",
    "    merged = pd.concat(dfs, ignore_index = True)\n",
    "    merged.to_csv(str(year)+'/'+folder[2:]+'.csv', index = None)\n",
    "    \n",
    "#removing the earlier directories for each day (they are no longer needed as we have a file for each month now)\n",
    "for folder in folders:\n",
    "    p = str(year) + '/'+str(folder)\n",
    "    shutil.rmtree(p)"
   ]
  },
  {
   "cell_type": "code",
   "execution_count": 26,
   "metadata": {
    "collapsed": false
   },
   "outputs": [],
   "source": [
    "#now combining the month CSVs into one CSVs for the entire year\n",
    "\n",
    "files = glob.glob(str(year)+\"/*.csv\")\n",
    "dfs = []\n",
    "for i in range(0, len(files)):\n",
    "    dfs.append(pd.read_csv(files[i]))\n",
    "\n",
    "merged = pd.concat(dfs, ignore_index = True)\n",
    "merged.to_csv('Betting Data/' + str(year) + '.csv', index = None)\n",
    "\n",
    "#removing the earlier directory for the year (no longer needed as we have a CSV file in the Betting Data directory now)\n",
    "shutil.rmtree(str(year))"
   ]
  },
  {
   "cell_type": "code",
   "execution_count": null,
   "metadata": {
    "collapsed": true
   },
   "outputs": [],
   "source": []
  }
 ],
 "metadata": {
  "anaconda-cloud": {},
  "kernelspec": {
   "display_name": "Python [default]",
   "language": "python",
   "name": "python3"
  },
  "language_info": {
   "codemirror_mode": {
    "name": "ipython",
    "version": 3
   },
   "file_extension": ".py",
   "mimetype": "text/x-python",
   "name": "python",
   "nbconvert_exporter": "python",
   "pygments_lexer": "ipython3",
   "version": "3.5.2"
  }
 },
 "nbformat": 4,
 "nbformat_minor": 1
}
