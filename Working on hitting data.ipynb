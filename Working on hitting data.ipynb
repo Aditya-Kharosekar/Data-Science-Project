{
 "cells": [
  {
   "cell_type": "code",
   "execution_count": 123,
   "metadata": {
    "collapsed": true
   },
   "outputs": [],
   "source": [
    "import pandas as pd\n",
    "import numpy as np\n",
    "import glob\n",
    "import os"
   ]
  },
  {
   "cell_type": "code",
   "execution_count": 124,
   "metadata": {
    "collapsed": true
   },
   "outputs": [],
   "source": [
    "year = 2017\n",
    "current_year = pd.read_csv(\"hitting/hitting_\" + str(year) + \".csv\")\n",
    "filename = \"hitting/\" + str(year) + \"weighted.csv\"\n",
    "df = current_year[current_year.Team != \"- - -\"] #removing players who got traded\n",
    "teams = df['Team'].unique()"
   ]
  },
  {
   "cell_type": "code",
   "execution_count": 125,
   "metadata": {},
   "outputs": [],
   "source": [
    "all_teams_weighted = []\n",
    "for team in teams:\n",
    "    this_team = df[df.Team == team] #getting this team's hitters\n",
    "    \n",
    "    #they are all weighted by the number of at bats\n",
    "    weighted_ba = 0.0\n",
    "    weighted_homeruns = 0.0\n",
    "    weighted_rbis = 0.0\n",
    "    weighted_ops = 0.0\n",
    "    weighted_war = 0.0\n",
    "    \n",
    "    at_bats = this_team['AB']\n",
    "\n",
    "    #weighted batting average\n",
    "    ba = this_team['AVG']\n",
    "    for i in range(len(at_bats)):\n",
    "        weighted_ba = weighted_ba + (at_bats.iloc[i] * ba.iloc[i])\n",
    "    weighted_ba = weighted_ba / np.sum(at_bats)\n",
    "    \n",
    "    #weighted homeruns\n",
    "    homeruns = this_team['HR']\n",
    "    for i in range(len(at_bats)):\n",
    "        weighted_homeruns = weighted_homeruns + (at_bats.iloc[i] * homeruns.iloc[i])\n",
    "    weighted_homeruns = weighted_homeruns / np.sum(at_bats)\n",
    "    \n",
    "    #weighted rbis\n",
    "    rbis = this_team['RBI']\n",
    "    for i in range(len(at_bats)):\n",
    "        weighted_rbis = weighted_rbis + (at_bats.iloc[i] * rbis.iloc[i])\n",
    "    weighted_rbis = weighted_rbis / np.sum(at_bats)\n",
    "    \n",
    "    #weighted ops\n",
    "    ops = this_team['OPS']\n",
    "    for i in range(len(at_bats)):\n",
    "        weighted_ops = weighted_ops + (at_bats.iloc[i] * ops.iloc[i])\n",
    "    weighted_ops = weighted_ops / np.sum(at_bats)\n",
    "    \n",
    "    #weighted WAR\n",
    "    war = this_team['WAR']\n",
    "    for i in range(len(at_bats)):\n",
    "        weighted_war = weighted_war + (at_bats.iloc[i] * war.iloc[i])\n",
    "    weighted_war = weighted_war / np.sum(at_bats)\n",
    "    \n",
    "    all_teams_weighted.append({\n",
    "            \"Team\": team,\n",
    "            'WeightedBattingAverage': weighted_ba,\n",
    "            'WeightedHomeRuns': weighted_homeruns,\n",
    "            'WeightedRBIs': weighted_rbis,\n",
    "            'WeightedOPS': weighted_ops,\n",
    "            'WeightedWAR': weighted_war\n",
    "        })"
   ]
  },
  {
   "cell_type": "code",
   "execution_count": 126,
   "metadata": {},
   "outputs": [],
   "source": [
    "f = pd.DataFrame(all_teams_weighted)\n",
    "f.to_csv(filename, index = None, columns = ['Team', 'WeightedBattingAverage', 'WeightedHomeRuns', 'WeightedRBIs', \n",
    "                                           'WeightedOPS', 'WeightedWAR'])"
   ]
  },
  {
   "cell_type": "markdown",
   "metadata": {},
   "source": [
    "# Changing team names to team initials"
   ]
  },
  {
   "cell_type": "code",
   "execution_count": 137,
   "metadata": {
    "collapsed": true
   },
   "outputs": [],
   "source": [
    "team_names_to_initials = {\n",
    "    'Angels': 'LAA', 'Astros': 'HOU','Athletics': 'OAK','Blue Jays': 'TOR','Braves': 'ATL','Brewers': 'MIL','Cardinals': 'STL',\n",
    "    'Cubs': 'CHC','Devil Rays': 'TB','Rays': 'TB','Diamondbacks': 'ARI','Dodgers': 'LAD','Expos': 'WAS','Nationals': 'WAS',\n",
    "    'Giants': 'SF','Indians': 'CLE','Mariners': 'SEA','Marlins': 'MIA','Mets:': 'NYM','Orioles': 'BAL','Padres': 'SD',\n",
    "    'Phillies': 'PHI','Pirates': 'PIT','Rangers': 'TEX','Red Sox': 'BOS','Reds': 'CIN','Rockies': 'COL', 'Royals': 'KC', \n",
    "    'Tigers': 'DET', 'Twins': 'MIN', 'White Sox': 'CHW', 'Yankees': 'NYY'\n",
    "}"
   ]
  },
  {
   "cell_type": "code",
   "execution_count": 138,
   "metadata": {},
   "outputs": [],
   "source": [
    "for year in range(1999, 2018):\n",
    "    filename = \"hitting/\" + str(year) + \"weighted.csv\"\n",
    "    df = pd.read_csv(filename)\n",
    "    for key, value in team_names_to_initials.items():\n",
    "        df = df.replace(key, value)\n",
    "    df.to_csv(filename, index = None, columns = ['Team', 'WeightedBattingAverage', 'WeightedHomeRuns', 'WeightedRBIs', \n",
    "                                           'WeightedOPS', 'WeightedWAR'])"
   ]
  },
  {
   "cell_type": "code",
   "execution_count": null,
   "metadata": {
    "collapsed": true
   },
   "outputs": [],
   "source": []
  }
 ],
 "metadata": {
  "anaconda-cloud": {},
  "kernelspec": {
   "display_name": "Python 3",
   "language": "python",
   "name": "python3"
  },
  "language_info": {
   "codemirror_mode": {
    "name": "ipython",
    "version": 3
   },
   "file_extension": ".py",
   "mimetype": "text/x-python",
   "name": "python",
   "nbconvert_exporter": "python",
   "pygments_lexer": "ipython3",
   "version": "3.6.1"
  }
 },
 "nbformat": 4,
 "nbformat_minor": 1
}
