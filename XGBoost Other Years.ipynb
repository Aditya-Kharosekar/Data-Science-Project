{
 "cells": [
  {
   "cell_type": "code",
   "execution_count": 3,
   "metadata": {},
   "outputs": [],
   "source": [
    "import pandas as pd\n",
    "from xgboost.sklearn import XGBClassifier\n",
    "from sklearn.metrics import accuracy_score\n",
    "from sklearn.model_selection import GridSearchCV\n",
    "from sklearn.metrics import confusion_matrix\n",
    "from sklearn.model_selection import train_test_split\n",
    "import time"
   ]
  },
  {
   "cell_type": "code",
   "execution_count": 5,
   "metadata": {},
   "outputs": [
    {
     "name": "stdout",
     "output_type": "stream",
     "text": [
      "Year:  2010\n",
      "Mean error rate: 0.4686609686609686\n",
      "Accuracy: 0.5313390313390314\n",
      "Confusion matrix for XGBoost: \n",
      "[[ 79 238]\n",
      " [ 91 294]]\n",
      "Year:  2011\n",
      "Mean error rate: 0.4057142857142857\n",
      "Accuracy: 0.5942857142857143\n",
      "Confusion matrix for XGBoost: \n",
      "[[177 149]\n",
      " [135 239]]\n",
      "Year:  2012\n",
      "Mean error rate: 0.43162393162393164\n",
      "Accuracy: 0.5683760683760684\n",
      "Confusion matrix for XGBoost: \n",
      "[[120 197]\n",
      " [106 279]]\n",
      "Year:  2013\n",
      "Mean error rate: 0.41512125534950073\n",
      "Accuracy: 0.5848787446504993\n",
      "Confusion matrix for XGBoost: \n",
      "[[139 195]\n",
      " [ 96 271]]\n",
      "Year:  2014\n",
      "Mean error rate: 0.43999999999999995\n",
      "Accuracy: 0.56\n",
      "Confusion matrix for XGBoost: \n",
      "[[166 144]\n",
      " [164 226]]\n",
      "Year:  2015\n",
      "Mean error rate: 0.4322396576319544\n",
      "Accuracy: 0.5677603423680456\n",
      "Confusion matrix for XGBoost: \n",
      "[[ 99 243]\n",
      " [ 60 299]]\n",
      "Year:  2016\n",
      "Mean error rate: 0.4306151645207439\n",
      "Accuracy: 0.5693848354792561\n",
      "Confusion matrix for XGBoost: \n",
      "[[120 215]\n",
      " [ 86 278]]\n"
     ]
    }
   ],
   "source": [
    "import numpy as np\n",
    "import random\n",
    "\n",
    "params = {'gamma': 10,\n",
    " 'learning_rate': 0.01,\n",
    " 'max_depth': 6,\n",
    " 'min_child_weight': 5,\n",
    " 'n_estimators': 200,\n",
    " 'subsample': 0.5}\n",
    "year = 2010\n",
    "for i in range(7):\n",
    "    # Read in dataset\n",
    "    df = pd.read_csv('Rolling Average Stats/' + str(year) +'.csv')\n",
    "\n",
    "    # Create observation and labels\n",
    "    X = df.drop(['date', 'home_team', 'away_team', 'home_score', 'away_score', 'home_pitcher', 'away_pitcher'], 1)\n",
    "    y = df.home_score > df.away_score # 1 if home team wins, 0 otherwise\n",
    "\n",
    "    # Use 1st 2/3rds of season for training, test on last 1/3\n",
    "    X_train, X_test, y_train, y_test = train_test_split(X, y, test_size=0.33, shuffle=False)\n",
    "    pred_avg = np.zeros(len(y_test))\n",
    "    for i in random.sample(range(1, 1000000), 10): #[30, 595, 123, 4849, 3, 1010, 234, 8267, 3736, 99999]:\n",
    "        clfi =  XGBClassifier(**params, silent=False, seed=i)\n",
    "        clfi.fit(X_train, y_train.values.ravel())\n",
    "        clfi_pred = clfi.predict(X_test)    \n",
    "        pred_avg = pred_avg + 0.1*clfi_pred\n",
    "\n",
    "    pred_avg = np.round(pred_avg)\n",
    "\n",
    "    # Report mean error rate\n",
    "    accuracy = accuracy_score(y_test, pred_avg)\n",
    "    error_rate = 1 - accuracy\n",
    "    print('Year: ', year)\n",
    "    print(\"Mean error rate: {}\\nAccuracy: {}\".format(error_rate, accuracy))\n",
    "\n",
    "    # Report confusion matrix for each classifier\n",
    "    print(\"Confusion matrix for XGBoost: \\n{}\".format(confusion_matrix(y_test, pred_avg)))\n",
    "    year += 1"
   ]
  },
  {
   "cell_type": "code",
   "execution_count": null,
   "metadata": {
    "collapsed": true
   },
   "outputs": [],
   "source": []
  }
 ],
 "metadata": {
  "kernelspec": {
   "display_name": "Python 3",
   "language": "python",
   "name": "python3"
  },
  "language_info": {
   "codemirror_mode": {
    "name": "ipython",
    "version": 3
   },
   "file_extension": ".py",
   "mimetype": "text/x-python",
   "name": "python",
   "nbconvert_exporter": "python",
   "pygments_lexer": "ipython3",
   "version": "3.6.1"
  }
 },
 "nbformat": 4,
 "nbformat_minor": 2
}
