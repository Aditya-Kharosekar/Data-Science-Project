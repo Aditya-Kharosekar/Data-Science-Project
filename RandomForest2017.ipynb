{
 "cells": [
  {
   "cell_type": "code",
   "execution_count": 43,
   "metadata": {
    "collapsed": true
   },
   "outputs": [],
   "source": [
    "from bs4 import BeautifulSoup\n",
    "import requests\n",
    "import pandas as pd\n",
    "import numpy as np\n",
    "import os\n",
    "import shutil\n",
    "import unicodedata\n",
    "import glob\n",
    "from sklearn.model_selection import GridSearchCV\n",
    "from sklearn.ensemble import RandomForestClassifier\n",
    "from sklearn.model_selection import train_test_split\n",
    "from sklearn.metrics import confusion_matrix\n",
    "from time import time"
   ]
  },
  {
   "cell_type": "code",
   "execution_count": 48,
   "metadata": {},
   "outputs": [
    {
     "name": "stdout",
     "output_type": "stream",
     "text": [
      "1486\n",
      "1486\n",
      "Training and testing time 74.75020384788513 seconds\n",
      "Confusion matrix for Random Forest Classifier:\n",
      "[[ 87 215]\n",
      " [ 83 252]]\n",
      "error rate for Random Forests: 0.46781789638932497\n"
     ]
    }
   ],
   "source": [
    "RFdata= pd.read_csv(\"./test.csv\")\n",
    "import time\n",
    "\n",
    "X_rf= RFdata[['home_20GameAvgBattingAvg', 'home_10GameAvgBattingAvg','home_5GameAvgBattingAvg',\n",
    "                    'home_20GameAvgRunsPerGame','home_10GameAvgRunsPerGame','home_5GameAvgRunsPerGame',\n",
    "                    'home_20GameAvgWalksPerGame','home_10GameAvgWalksPerGame','home_5GameAvgWalksPerGame',\n",
    "                    'home_20GameAvgStrikeoutsPerGame','home_10GameAvgStrikeoutsPerGame','home_5GameAvgStrikeoutsPerGame',\n",
    "                    'home_20GameAvgSBPerGame','home_10GameAvgSBPerGame', 'home_5GameAvgSBPerGame',\n",
    "                    'home_20GameAvgLOBPerGame','home_10GameAvgLOBPerGame','home_5GameAvgLOBPerGame',\n",
    "                    'home_pitcher_strikeouts', 'home_pitcher_walks', 'home_pitcher_hits', 'home_pitcher_ERA',\n",
    "                    'away_20GameAvgBattingAvg','away_10GameAvgBattingAvg','away_5GameAvgBattingAvg',\n",
    "                    'away_20GameAvgRunsPerGame','away_10GameAvgRunsPerGame','away_5GameAvgRunsPerGame',\n",
    "                    'away_20GameAvgWalksPerGame','away_10GameAvgWalksPerGame', 'away_5GameAvgWalksPerGame',\n",
    "                    'away_20GameAvgStrikeoutsPerGame','away_10GameAvgStrikeoutsPerGame', 'away_5GameAvgStrikeoutsPerGame',\n",
    "                    'away_20GameAvgSBPerGame', 'away_10GameAvgSBPerGame', 'away_5GameAvgSBPerGame',\n",
    "                    'away_20GameAvgLOBPerGame', 'away_10GameAvgLOBPerGame','away_5GameAvgLOBPerGame',\n",
    "                    'away_pitcher_strikeouts', 'away_pitcher_walks', 'away_pitcher_hits', 'away_pitcher_ERA' ]]\n",
    "#Home Pitcher and away pitcher taken out, 44 features\n",
    "y_rf= np.zeros(RFdata.shape[0])\n",
    "homescore= RFdata['home_score']\n",
    "awayscore =RFdata['away_score']\n",
    "for i in range (0,RFdata.shape[0]):\n",
    "    if homescore[i]>awayscore[i]:\n",
    "        y_rf[i]=1\n",
    "    else:\n",
    "        y_rf[i]=0\n",
    "        \n",
    "y_rf.transpose()\n",
    "\n",
    "X_rf_train, X_rf_test, y_rf_train, y_rf_test = train_test_split(X_rf,y_rf,test_size = 0.3)\n",
    "print(X_rf_train.shape[0])\n",
    "print(X_rf_test.shape[0])\n",
    "#print (X_rf_train)\n",
    "Ns= [10, 25, 50 ,100, 200, 300, 400, 500, 600, 700]\n",
    "Mdepth= [5, 10, 15,  20, 30, 40 , 50, 60, 70]\n",
    "Mfeatures= [5, 10, 15, 20, 30, 40, 44]\n",
    "\n",
    "tuned_parameters = [{'n_estimators': Ns},{'max_depth' : Mdepth },{'max_features': Mfeatures}]\n",
    "start_time= time.time()\n",
    "clf = GridSearchCV(RandomForestClassifier(), tuned_parameters, cv=5, refit= 'False')\n",
    "clf.fit(X_rf_train, y_rf_train.ravel())\n",
    "y_rf_pred= clf.predict(X_rf_test)\n",
    "print(\"Training and testing time %s seconds\" %(time.time() - start_time))\n",
    "print(\"Confusion matrix for Random Forest Classifier:\")\n",
    "print(confusion_matrix(y_rf_test,y_rf_pred))\n",
    "tp, fn, fp, tn = confusion_matrix(y_rf_test, y_rf_pred).ravel()\n",
    "false= fp+fn\n",
    "total= fp+tp+tn+fn\n",
    "print(\"error rate for Random Forests: {}\".format(false/total))"
   ]
  },
  {
   "cell_type": "code",
   "execution_count": null,
   "metadata": {
    "collapsed": true
   },
   "outputs": [],
   "source": []
  }
 ],
 "metadata": {
  "kernelspec": {
   "display_name": "Python 3",
   "language": "python",
   "name": "python3"
  },
  "language_info": {
   "codemirror_mode": {
    "name": "ipython",
    "version": 3
   },
   "file_extension": ".py",
   "mimetype": "text/x-python",
   "name": "python",
   "nbconvert_exporter": "python",
   "pygments_lexer": "ipython3",
   "version": "3.6.1"
  }
 },
 "nbformat": 4,
 "nbformat_minor": 2
}
