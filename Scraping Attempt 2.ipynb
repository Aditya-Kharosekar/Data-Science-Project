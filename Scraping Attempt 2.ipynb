{
 "cells": [
  {
   "cell_type": "markdown",
   "metadata": {},
   "source": [
    "My pseudocode for getting betting data for one season - \n",
    "\n",
    "For each team:\n",
    "\n",
    "    For each game:\n",
    "    \n",
    "        1. Get date and opposing team\n",
    "        \n",
    "        2. Get list of games already in CSV which occurred on that date\n",
    "        \n",
    "        3. If no such games exists,\n",
    "        \n",
    "            add this game to the list\n",
    "        \n",
    "        4. Else\n",
    "            \n",
    "            a. search if this particular game exists\n",
    "            \n",
    "            If no, add this game to list\n",
    "            \n",
    "            If yes, \n",
    "            \n",
    "                if current team is home team, populate homeLine column.\n",
    "                if current team is away team, populate awayLine column"
   ]
  },
  {
   "cell_type": "code",
   "execution_count": 1,
   "metadata": {
    "collapsed": true
   },
   "outputs": [],
   "source": [
    "from bs4 import BeautifulSoup\n",
    "import requests\n",
    "import pandas as pd\n",
    "import numpy as np\n",
    "import os\n",
    "import shutil\n",
    "import unicodedata\n",
    "import mlbgame\n",
    "import glob"
   ]
  },
  {
   "cell_type": "code",
   "execution_count": 285,
   "metadata": {
    "collapsed": true
   },
   "outputs": [],
   "source": [
    "year = 1999\n",
    "filename = 'Betting Data/'+str(year)+'.csv'"
   ]
  },
  {
   "cell_type": "code",
   "execution_count": 286,
   "metadata": {},
   "outputs": [],
   "source": [
    "#these are codes used to access the covers.com website\n",
    "teams = {\n",
    "    #AL Central\n",
    "    'CLE': 2980,\n",
    "    'CHW': 2974,\n",
    "    'DET': 2978,\n",
    "    'KC': 2965,\n",
    "    'MIN': 2983,\n",
    "    \n",
    "    #AL West\n",
    "    'HOU': 2981,\n",
    "    'TEX': 2977,\n",
    "    'LAA': 2979,\n",
    "    'OAK': 2969,\n",
    "    'SEA': 2973,\n",
    "    \n",
    "    #AL East\n",
    "    'BAL': 2959,\n",
    "    'BOS': 2966,\n",
    "    'NYY': 2970,\n",
    "    'TB': 2960,\n",
    "    'TOR': 2984,\n",
    "    \n",
    "    #NL Central\n",
    "    'CHC': 2982,\n",
    "    'CIN': 2961,\n",
    "    'MIL': 2976,\n",
    "    'PIT': 2971,\n",
    "    'STL': 2975,\n",
    "    \n",
    "    #NL West\n",
    "    'ARI': 2968,\n",
    "    'COL': 2956,\n",
    "    'LAD': 2967,\n",
    "    'SD': 2955,\n",
    "    'SF': 2962,\n",
    "    \n",
    "    #NL East\n",
    "    'ATL': 2957,\n",
    "    'MIA': 2963,\n",
    "    'NYM': 2964,\n",
    "    'PHI': 2958,\n",
    "    'WAS': 2972\n",
    "}"
   ]
  },
  {
   "cell_type": "code",
   "execution_count": 287,
   "metadata": {},
   "outputs": [
    {
     "name": "stdout",
     "output_type": "stream",
     "text": [
      "[{'awayLine': 0, 'awayScore': 0, 'awayPitcher': 'Hi', 'date': '11/11/1111', 'homeScore': 0, 'homePitcher': 'Hi', 'awayTeam': 'Hi', 'homeTeam': 'Hi', 'homeLine': 0}]\n"
     ]
    }
   ],
   "source": [
    "rows_list = []\n",
    "rows_list.append({\n",
    "            'date':'11/11/1111',\n",
    "            'homeTeam': 'Hi',\n",
    "            'awayTeam': 'Hi',\n",
    "            'homeScore':0,\n",
    "            'awayScore': 0,\n",
    "            'homePitcher':'Hi',\n",
    "            'awayPitcher':'Hi',\n",
    "            'homeLine': 0,\n",
    "            'awayLine': 0\n",
    "        })\n",
    "print (rows_list)\n",
    "f = pd.DataFrame(rows_list)\n",
    "f.to_csv(filename,  index = None, columns = ['date', 'homeTeam', 'awayTeam', 'homeScore', 'awayScore', 'homePitcher',\n",
    "                                              'awayPitcher', 'homeLine', 'awayLine'])"
   ]
  },
  {
   "cell_type": "code",
   "execution_count": 288,
   "metadata": {
    "collapsed": true
   },
   "outputs": [],
   "source": [
    "def get_current_home_away_teams(team, opposing_team):\n",
    "    home = \"\"\n",
    "    away = \"\"\n",
    "    if opposing_team[:2] == \"@ \":\n",
    "        home = opposing_team[2:]\n",
    "        away = team\n",
    "    else:\n",
    "        home = team\n",
    "        away = opposing_team\n",
    "        \n",
    "    if (home==\"LA\"):\n",
    "        home = \"LAD\"\n",
    "    if (away==\"LA\"):\n",
    "        away=\"LAD\"\n",
    "        \n",
    "    return home, away"
   ]
  },
  {
   "cell_type": "code",
   "execution_count": 289,
   "metadata": {},
   "outputs": [],
   "source": [
    "def get_scores(scores, isCurrentTeamHome):\n",
    "    scores = unicodedata.normalize(\"NFKD\", scores.strip())\n",
    "    scores = scores.split(\" \")[1].split(\"-\")\n",
    "    if (isCurrentTeamHome):\n",
    "        home_score = scores[0]\n",
    "        away_score = scores[1]\n",
    "    else:\n",
    "        home_score = scores[1]\n",
    "        away_score = scores[0]\n",
    "    return home_score, away_score"
   ]
  },
  {
   "cell_type": "code",
   "execution_count": 290,
   "metadata": {
    "collapsed": true
   },
   "outputs": [],
   "source": [
    "def get_moneylines(moneyline, isCurrentTeamHome):\n",
    "    if (isCurrentTeamHome):\n",
    "        homeline = moneyline\n",
    "        awayline = 0\n",
    "    else:\n",
    "        homeline = 0\n",
    "        awayline = moneyline\n",
    "    return homeline, awayline"
   ]
  },
  {
   "cell_type": "code",
   "execution_count": 291,
   "metadata": {},
   "outputs": [],
   "source": [
    "def scrape_info_for_team(team):\n",
    "    \n",
    "    #first reading existing csv\n",
    "    df = pd.read_csv(filename)\n",
    "    \n",
    "    #get webpage for current team\n",
    "    query = 'https://www.covers.com/pageLoader/pageLoader.aspx?page=/data/mlb/teams/pastresults/'+str(year)+'/team' + str(teams[team])+'.html'\n",
    "    r = requests.get(query)\n",
    "    soup = BeautifulSoup(r.text, \"html.parser\")\n",
    "    \n",
    "    #getting all games played by team\n",
    "    games = soup.find_all(\"tr\", class_=lambda x: x !='datahead')\n",
    "    games_to_be_added = []\n",
    "    \n",
    "    for game in games:\n",
    "        current_date = \"\"\n",
    "        current_home_team = \"\"\n",
    "        current_away_team=\"\"\n",
    "        current_home_score=0\n",
    "        current_away_score=0\n",
    "        current_home_pitcher=\"\"\n",
    "        current_away_pitcher=\"\"\n",
    "        current_home_line = 0\n",
    "        current_away_line = 0\n",
    "        \n",
    "        \n",
    "        cells = game.find_all(class_='datacell')\n",
    "        \n",
    "        #get date (first check for existence of game in database)\n",
    "        current_date = unicodedata.normalize(\"NFKD\", (cells[0].text).strip())\n",
    "        \n",
    "        #get teams (second check)\n",
    "        opposing_team = (cells[1].text).strip()\n",
    "        current_home_team, current_away_team = get_current_home_away_teams(team, opposing_team)\n",
    "        \n",
    "        #seeing if the game was a tie\n",
    "        if (current_date==\"09/29/16\" and current_home_team==\"PIT\" and current_away_team==\"CHC\"):\n",
    "            continue\n",
    "        if (current_date==\"06/30/05\" and current_home_team==\"CIN\" and current_away_team==\"HOU\"):\n",
    "            continue\n",
    "        if (current_date==\"09/30/01\" and current_home_team==\"NYY\" and current_away_team==\"BAL\"):\n",
    "            continue\n",
    "        \n",
    "        #get scores\n",
    "        scores = (cells[2].text)\n",
    "        #print (current_date, scores)\n",
    "        current_home_score, current_away_score = get_scores(scores, (current_home_team==team))\n",
    "        \n",
    "        #get pitchers\n",
    "        if (cells[3].a):   \n",
    "            current_away_pitcher = (cells[3].a.text).strip()\n",
    "        else:\n",
    "            current_away_pitcher = (cells[3].text).strip()[:-4]\n",
    "        if (cells[4].a):\n",
    "            current_home_pitcher = (cells[4].a.text).strip()\n",
    "        else:\n",
    "            current_home_pitcher = (cells[4].text).strip()[:-4]\n",
    "        \n",
    "        #get line for current team and current game\n",
    "        current_home_line, current_away_line = get_moneylines((cells[5].text).strip()[2:], (current_home_team==team))\n",
    "        \n",
    "        \n",
    "        \n",
    "        #see if there are any games in existing CSV which were played on this date\n",
    "        games_on_this_date = df[df['date']==current_date]\n",
    "            \n",
    "        #check if this exact game is in database\n",
    "        filter1 = games_on_this_date[games_on_this_date['homeTeam']==current_home_team] #same home team\n",
    "        filter2 = filter1[filter1['homePitcher']==current_home_pitcher] #same home pitcher\n",
    "        filter3 = filter2[filter2['date']==current_date] #same date\n",
    "        if (filter3.shape[0]==0): #this exact game is NOT already in database\n",
    "                    games_to_be_added.append({\n",
    "                        'date':current_date,\n",
    "                        'homeTeam': current_home_team,\n",
    "                        'awayTeam': current_away_team,\n",
    "                        'homeScore': current_home_score,\n",
    "                        'awayScore': current_away_score,\n",
    "                        'homePitcher': current_home_pitcher,\n",
    "                        'awayPitcher': current_away_pitcher,\n",
    "                        'homeLine': current_home_line,\n",
    "                        'awayLine': current_away_line\n",
    "                })\n",
    "        else: #this exact game IS in database. Need to update moneyline\n",
    "            if (current_away_team == team):\n",
    "                new_df = {\n",
    "                    'date': filter3['date'],\n",
    "                    'homeTeam': filter3['homeTeam'],\n",
    "                    'awayTeam': filter3['awayTeam'],\n",
    "                    'homeScore': filter3['homeScore'],\n",
    "                    'awayScore':filter3['awayScore'],\n",
    "                    'homePitcher': filter3['homePitcher'],\n",
    "                    'awayPitcher': filter3['awayPitcher'],\n",
    "                    'homeLine': filter3['homeLine'],\n",
    "                    'awayLine': current_away_line\n",
    "                }\n",
    "                new_df = pd.DataFrame(new_df)\n",
    "                df.update(new_df)\n",
    "            else:\n",
    "                new_df = {\n",
    "                    'date': filter3['date'],\n",
    "                    'homeTeam': filter3['homeTeam'],\n",
    "                    'awayTeam': filter3['awayTeam'],\n",
    "                    'homeScore': filter3['homeScore'],\n",
    "                    'awayScore':filter3['awayScore'],\n",
    "                    'homePitcher': filter3['homePitcher'],\n",
    "                    'awayPitcher': filter3['awayPitcher'],\n",
    "                    'homeLine': current_home_line,\n",
    "                    'awayLine': filter3['awayLine']\n",
    "                }\n",
    "                new_df = pd.DataFrame(new_df)\n",
    "                df.update(new_df)\n",
    "                \n",
    "    df2 = pd.DataFrame(games_to_be_added)\n",
    "    df = df.append(df2, ignore_index=True)\n",
    "    return df\n",
    "        "
   ]
  },
  {
   "cell_type": "code",
   "execution_count": 292,
   "metadata": {},
   "outputs": [
    {
     "name": "stdout",
     "output_type": "stream",
     "text": [
      "TOR\n",
      "HOU\n",
      "ATL\n",
      "BAL\n",
      "OAK\n",
      "BOS\n",
      "ARI\n",
      "LAA\n",
      "CLE\n",
      "STL\n",
      "SD\n",
      "COL\n",
      "DET\n",
      "TEX\n",
      "MIN\n",
      "CIN\n",
      "SF\n",
      "TB\n",
      "KC\n",
      "LAD\n",
      "SEA\n",
      "PIT\n",
      "CHW\n",
      "WAS\n",
      "NYM\n",
      "PHI\n",
      "MIL\n",
      "CHC\n",
      "NYY\n",
      "MIA\n"
     ]
    }
   ],
   "source": [
    "for team, initials in teams.items():\n",
    "    print (team)\n",
    "    x = scrape_info_for_team(team)\n",
    "    x.to_csv(filename, index=None, columns = ['date', 'homeTeam', 'awayTeam', 'homeScore', 'awayScore', 'homePitcher',\n",
    "                                           'awayPitcher', 'homeLine', 'awayLine'])"
   ]
  },
  {
   "cell_type": "markdown",
   "metadata": {
    "collapsed": true
   },
   "source": [
    "# Removing the filler rows in each betting CSV"
   ]
  },
  {
   "cell_type": "code",
   "execution_count": 12,
   "metadata": {},
   "outputs": [],
   "source": [
    "years = [i for i in range(1999, 2018)]\n",
    "\n",
    "for year in years:\n",
    "    current_year = pd.read_csv('Betting Data/'+ str(year) + '.csv')\n",
    "    current_year = current_year[current_year.homeTeam != 'Hi']\n",
    "    current_year.to_csv('Betting Data/'+ str(year) + '.csv', index = None)"
   ]
  },
  {
   "cell_type": "code",
   "execution_count": null,
   "metadata": {
    "collapsed": true
   },
   "outputs": [],
   "source": []
  }
 ],
 "metadata": {
  "anaconda-cloud": {},
  "kernelspec": {
   "display_name": "Python 3",
   "language": "python",
   "name": "python3"
  },
  "language_info": {
   "codemirror_mode": {
    "name": "ipython",
    "version": 3
   },
   "file_extension": ".py",
   "mimetype": "text/x-python",
   "name": "python",
   "nbconvert_exporter": "python",
   "pygments_lexer": "ipython3",
   "version": "3.6.1"
  }
 },
 "nbformat": 4,
 "nbformat_minor": 1
}
