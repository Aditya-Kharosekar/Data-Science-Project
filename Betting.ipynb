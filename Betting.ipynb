{
 "cells": [
  {
   "cell_type": "code",
   "execution_count": 258,
   "metadata": {},
   "outputs": [],
   "source": [
    "import pandas as pd\n",
    "import numpy as np\n",
    "from xgboost import XGBClassifier\n",
    "from sklearn.ensemble import RandomForestClassifier\n",
    "from sklearn.svm import SVC\n",
    "from sklearn.metrics import accuracy_score\n",
    "from sklearn.model_selection import GridSearchCV\n",
    "from sklearn.metrics import confusion_matrix\n",
    "from sklearn.model_selection import train_test_split\n",
    "import time\n",
    "import matplotlib.pyplot as plt"
   ]
  },
  {
   "cell_type": "code",
   "execution_count": 259,
   "metadata": {},
   "outputs": [],
   "source": [
    "year = 2010\n",
    "filename = 'Rolling Average Stats/' + str(year) + \".csv\"\n",
    "df = pd.read_csv(filename)"
   ]
  },
  {
   "cell_type": "code",
   "execution_count": 260,
   "metadata": {
    "collapsed": true
   },
   "outputs": [],
   "source": [
    "#I dont actually use the betting lines in the model. I don't drop it here because I need it to calculate vegas probabilities\n",
    "X = df.drop(['date', 'home_team', 'away_team', 'home_score', 'away_score', 'home_pitcher', 'away_pitcher'], 1)\n",
    "y = df.home_score > df.away_score # 1 if home team wins, 0 otherwise\n",
    "X_train, X_test, y_train, y_test = train_test_split(X, y, test_size=0.33)"
   ]
  },
  {
   "cell_type": "code",
   "execution_count": 261,
   "metadata": {
    "collapsed": true
   },
   "outputs": [],
   "source": [
    "def calcVegasprobs(X_test):\n",
    "    vegas = []\n",
    "    homeline = X_test.homeLine\n",
    "    for i in range(len(homeline)):\n",
    "        if (homeline.iloc[i] < 0): #home team is the favorite\n",
    "            vegas.append(homeline.iloc[i] / (homeline.iloc[i] - 100))\n",
    "        else:\n",
    "            vegas.append(100 / (100 + homeline.iloc[i]))\n",
    "    return vegas"
   ]
  },
  {
   "cell_type": "code",
   "execution_count": 262,
   "metadata": {},
   "outputs": [],
   "source": [
    "vegas = calcVegasprobs(X_test)"
   ]
  },
  {
   "cell_type": "code",
   "execution_count": 263,
   "metadata": {},
   "outputs": [],
   "source": [
    "X_test_temp = X_test.drop(['homeLine', 'awayLine'], 1) #this is what I will use as X_test\n",
    "X_train_temp = X_train.drop(['homeLine', 'awayLine'], 1)\n",
    "params = {'gamma': 10,\n",
    " 'learning_rate': 0.01,\n",
    " 'max_depth': 6,\n",
    " 'min_child_weight': 5,\n",
    " 'n_estimators': 200,\n",
    " 'subsample': 0.5}\n",
    "\n",
    "num_models = 10\n",
    "us = np.zeros(len(y_test))\n",
    "seeds = [1, 3, 5, 7, 11, 13, 17, 19, 23, 47]\n",
    "for seed in seeds:\n",
    "    clfi =  XGBClassifier(**params, silent=False, seed=seed)\n",
    "    clfi.fit(X_train_temp, y_train.values.ravel())\n",
    "    clfi_pred = clfi.predict_proba(X_test_temp) [:,1]\n",
    "    us = us + (1/num_models)*clfi_pred\n"
   ]
  },
  {
   "cell_type": "code",
   "execution_count": 264,
   "metadata": {},
   "outputs": [],
   "source": [
    "games_to_bet = []\n",
    "threshold = 0.20\n",
    "for i in range(len(us)):\n",
    "    if us[i] >= (vegas[i] + threshold):\n",
    "        games_to_bet.append((i, 1))\n",
    "    elif us[i] <= (vegas[i] - threshold):\n",
    "        games_to_bet.append((i, 0))\n"
   ]
  },
  {
   "cell_type": "code",
   "execution_count": 265,
   "metadata": {},
   "outputs": [
    {
     "data": {
      "text/plain": [
       "-100"
      ]
     },
     "execution_count": 265,
     "metadata": {},
     "output_type": "execute_result"
    }
   ],
   "source": [
    "gains = 0\n",
    "for game, team_to_bet in games_to_bet:\n",
    "    current_game = X_test.iloc[game]\n",
    "    homeWin = y_test.iloc[game]\n",
    "    homeLine = current_game['homeLine']\n",
    "    awayLine = current_game['awayLine']\n",
    "    #bet on home team\n",
    "    if team_to_bet:\n",
    "        if homeWin:\n",
    "            if homeLine < 0:\n",
    "                gains += (100*100)/homeLine\n",
    "            else:\n",
    "                gains += homeLine\n",
    "        else:\n",
    "            gains -= 100\n",
    "    #bet on away team\n",
    "    else:\n",
    "        if not homeWin:\n",
    "            if awayLine < 0:\n",
    "                gains += (100*100)/awayLine\n",
    "            else:\n",
    "                gains += awayLine\n",
    "        else:\n",
    "            gains -= 100\n",
    "            \n",
    "gains"
   ]
  },
  {
   "cell_type": "code",
   "execution_count": null,
   "metadata": {
    "collapsed": true
   },
   "outputs": [],
   "source": []
  }
 ],
 "metadata": {
  "anaconda-cloud": {},
  "kernelspec": {
   "display_name": "Python 3",
   "language": "python",
   "name": "python3"
  },
  "language_info": {
   "codemirror_mode": {
    "name": "ipython",
    "version": 3
   },
   "file_extension": ".py",
   "mimetype": "text/x-python",
   "name": "python",
   "nbconvert_exporter": "python",
   "pygments_lexer": "ipython3",
   "version": "3.6.1"
  }
 },
 "nbformat": 4,
 "nbformat_minor": 1
}
